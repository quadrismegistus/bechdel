{
 "cells": [
  {
   "cell_type": "code",
   "execution_count": 14,
   "metadata": {},
   "outputs": [],
   "source": [
    "import sys; sys.path.insert(0,'..')\n",
    "from bechdeltest import *\n",
    "\n",
    "import sys; sys.path.insert(0,'/Users/ryan/github/BERTopic')\n",
    "from bertopic import BERTopic"
   ]
  },
  {
   "cell_type": "code",
   "execution_count": 15,
   "metadata": {},
   "outputs": [],
   "source": [
    "C=BechdelTest()\n",
    "# for t in C.texts(): t.get_dialogue_txt()"
   ]
  },
  {
   "cell_type": "code",
   "execution_count": 16,
   "metadata": {},
   "outputs": [],
   "source": [
    "# tm = C.topic_model()\n",
    "# tm"
   ]
  },
  {
   "cell_type": "code",
   "execution_count": 17,
   "metadata": {},
   "outputs": [],
   "source": [
    "## Get all speech?\n",
    "def get_all_speech_docs():\n",
    "    C=BechdelTest()\n",
    "    path_dials=f'{C.MOVIE_SCRIPT_DB_PATH}/parsed/dialogue'\n",
    "    docs = []\n",
    "    for fn in tqdm(os.listdir(path_dials)):\n",
    "        with open(os.path.join(path_dials,fn)) as f:\n",
    "            for ln in f:\n",
    "                if '=>' in ln:\n",
    "                    doc=ln.split('=>',1)[1].strip()\n",
    "                    docs.append(doc)\n",
    "    return docs\n",
    "\n",
    "def get_corpus_speech_docs():\n",
    "    C=BechdelTest()\n",
    "    docs = [dial for t in C.texts(progress=True) for dial in t.dialogue().speech]\n",
    "    len(docs), docs[0]\n",
    "    return docs"
   ]
  },
  {
   "cell_type": "code",
   "execution_count": 18,
   "metadata": {},
   "outputs": [
    {
     "data": {
      "application/vnd.jupyter.widget-view+json": {
       "model_id": "30369af415c54900ad71ffade81e3d8c",
       "version_major": 2,
       "version_minor": 0
      },
      "text/plain": [
       "[BechdelTest] Loading corpus:   0%|          | 0/34 [00:00<?, ?it/s]"
      ]
     },
     "metadata": {},
     "output_type": "display_data"
    },
    {
     "data": {
      "application/vnd.jupyter.widget-view+json": {
       "model_id": "5aab13aad8ff49e4849ff027431c3615",
       "version_major": 2,
       "version_minor": 0
      },
      "text/plain": [
       "[BechdelTest] iterating texts:   0%|          | 0/34 [00:00<?, ?it/s]"
      ]
     },
     "metadata": {},
     "output_type": "display_data"
    },
    {
     "name": "stderr",
     "output_type": "stream",
     "text": [
      "100%|██████████| 2041/2041 [00:01<00:00, 1496.76it/s]\n"
     ]
    },
    {
     "data": {
      "text/plain": [
       "'100,000'"
      ]
     },
     "execution_count": 18,
     "metadata": {},
     "output_type": "execute_result"
    }
   ],
   "source": [
    "n = 100000\n",
    "docs = get_corpus_speech_docs()\n",
    "docs += random.sample(get_all_speech_docs(), 100000 - len(docs))\n",
    "random.shuffle(docs)\n",
    "f'{len(docs):,}'"
   ]
  },
  {
   "cell_type": "code",
   "execution_count": 13,
   "metadata": {},
   "outputs": [
    {
     "name": "stderr",
     "output_type": "stream",
     "text": [
      "Batches: 100%|██████████| 3125/3125 [20:35<00:00,  2.53it/s] \n",
      "2022-07-13 06:50:25,071 - BERTopic - Transformed documents to Embeddings\n",
      "OMP: Info #271: omp_set_nested routine deprecated, please use omp_set_max_active_levels instead.\n",
      "2022-07-13 06:50:56,024 - BERTopic - Reduced dimensionality\n"
     ]
    },
    {
     "name": "stdout",
     "output_type": "stream",
     "text": [
      "huggingface/tokenizers: The current process just got forked, after parallelism has already been used. Disabling parallelism to avoid deadlocks...\n",
      "To disable this warning, you can either:\n",
      "\t- Avoid using `tokenizers` before the fork if possible\n",
      "\t- Explicitly set the environment variable TOKENIZERS_PARALLELISM=(true | false)\n",
      "huggingface/tokenizers: The current process just got forked, after parallelism has already been used. Disabling parallelism to avoid deadlocks...\n",
      "To disable this warning, you can either:\n",
      "\t- Avoid using `tokenizers` before the fork if possible\n",
      "\t- Explicitly set the environment variable TOKENIZERS_PARALLELISM=(true | false)\n",
      "huggingface/tokenizers: The current process just got forked, after parallelism has already been used. Disabling parallelism to avoid deadlocks...\n",
      "To disable this warning, you can either:\n",
      "\t- Avoid using `tokenizers` before the fork if possible\n",
      "\t- Explicitly set the environment variable TOKENIZERS_PARALLELISM=(true | false)\n",
      "huggingface/tokenizers: The current process just got forked, after parallelism has already been used. Disabling parallelism to avoid deadlocks...\n",
      "To disable this warning, you can either:\n",
      "\t- Avoid using `tokenizers` before the fork if possible\n",
      "\t- Explicitly set the environment variable TOKENIZERS_PARALLELISM=(true | false)\n",
      "huggingface/tokenizers: The current process just got forked, after parallelism has already been used. Disabling parallelism to avoid deadlocks...\n",
      "To disable this warning, you can either:\n",
      "\t- Avoid using `tokenizers` before the fork if possible\n",
      "\t- Explicitly set the environment variable TOKENIZERS_PARALLELISM=(true | false)\n",
      "huggingface/tokenizers: The current process just got forked, after parallelism has already been used. Disabling parallelism to avoid deadlocks...\n",
      "To disable this warning, you can either:\n",
      "\t- Avoid using `tokenizers` before the fork if possible\n",
      "\t- Explicitly set the environment variable TOKENIZERS_PARALLELISM=(true | false)\n"
     ]
    },
    {
     "name": "stderr",
     "output_type": "stream",
     "text": [
      "2022-07-13 06:51:02,576 - BERTopic - Clustered reduced embeddings\n"
     ]
    },
    {
     "ename": "AttributeError",
     "evalue": "'function' object has no attribute 'path_data'",
     "output_type": "error",
     "traceback": [
      "\u001b[0;31m---------------------------------------------------------------------------\u001b[0m",
      "\u001b[0;31mAttributeError\u001b[0m                            Traceback (most recent call last)",
      "\u001b[1;32m/Users/ryan/github/bechdeltest/notebooks/TrainAllTopics.ipynb Cell 6\u001b[0m in \u001b[0;36m<cell line: 4>\u001b[0;34m()\u001b[0m\n\u001b[1;32m      <a href='vscode-notebook-cell:/Users/ryan/github/bechdeltest/notebooks/TrainAllTopics.ipynb#ch0000011?line=1'>2</a>\u001b[0m topic_model \u001b[39m=\u001b[39m BERTopic(verbose\u001b[39m=\u001b[39m\u001b[39mTrue\u001b[39;00m, embedding_model\u001b[39m=\u001b[39m\u001b[39m\"\u001b[39m\u001b[39mall-MiniLM-L6-v2\u001b[39m\u001b[39m\"\u001b[39m)\n\u001b[1;32m      <a href='vscode-notebook-cell:/Users/ryan/github/bechdeltest/notebooks/TrainAllTopics.ipynb#ch0000011?line=2'>3</a>\u001b[0m topics, probs \u001b[39m=\u001b[39m topic_model\u001b[39m.\u001b[39mfit_transform(docs[:n])\n\u001b[0;32m----> <a href='vscode-notebook-cell:/Users/ryan/github/bechdeltest/notebooks/TrainAllTopics.ipynb#ch0000011?line=3'>4</a>\u001b[0m topic_model\u001b[39m.\u001b[39msave(os\u001b[39m.\u001b[39mpath\u001b[39m.\u001b[39mjoin(C\u001b[39m.\u001b[39;49mpath_data, \u001b[39m'\u001b[39m\u001b[39mtopic_model.ALL_MOVIES.pkl\u001b[39m\u001b[39m'\u001b[39m))\n",
      "\u001b[0;31mAttributeError\u001b[0m: 'function' object has no attribute 'path_data'"
     ]
    }
   ],
   "source": [
    "n=None\n",
    "topic_model = BERTopic(verbose=True, embedding_model=\"all-MiniLM-L6-v2\")\n",
    "topics, probs = topic_model.fit_transform(docs[:n])\n",
    "topic_model.save('topic_model.ALL_MOVIES.pkl'))"
   ]
  },
  {
   "cell_type": "code",
   "execution_count": 21,
   "metadata": {},
   "outputs": [],
   "source": []
  },
  {
   "cell_type": "code",
   "execution_count": 22,
   "metadata": {},
   "outputs": [
    {
     "data": {
      "text/plain": [
       "[('catwoman', 0.024686924780803962),\n",
       " ('patience', 0.020742773692096404),\n",
       " ('laurel', 0.016630411422905764),\n",
       " ('cat', 0.012706904801748466),\n",
       " ('edna', 0.012038421072995171),\n",
       " ('lone', 0.010008793159532965),\n",
       " ('midnight', 0.009079772178993892),\n",
       " ('avenal', 0.007924070176996405),\n",
       " ('her', 0.007906971744052237),\n",
       " ('georges', 0.007721444952495501)]"
      ]
     },
     "execution_count": 22,
     "metadata": {},
     "output_type": "execute_result"
    }
   ],
   "source": [
    "topic_model.get_topic(2)"
   ]
  },
  {
   "cell_type": "code",
   "execution_count": 34,
   "metadata": {},
   "outputs": [],
   "source": [
    "# topic_model.visualize_topics()"
   ]
  },
  {
   "cell_type": "code",
   "execution_count": 36,
   "metadata": {},
   "outputs": [],
   "source": [
    "## Get all speech?\n",
    "# !ls \"${C.MOVIE_SCRIPT_DB_PATH}/parsed\""
   ]
  },
  {
   "cell_type": "code",
   "execution_count": null,
   "metadata": {},
   "outputs": [],
   "source": []
  }
 ],
 "metadata": {
  "kernelspec": {
   "display_name": "Python 3.9.7 ('base')",
   "language": "python",
   "name": "python3"
  },
  "language_info": {
   "codemirror_mode": {
    "name": "ipython",
    "version": 3
   },
   "file_extension": ".py",
   "mimetype": "text/x-python",
   "name": "python",
   "nbconvert_exporter": "python",
   "pygments_lexer": "ipython3",
   "version": "3.9.7"
  },
  "orig_nbformat": 4,
  "vscode": {
   "interpreter": {
    "hash": "99c3488a746bccd77b7949f8f419451e1c962da56ebbaaae6e4d2e6c8c07eaa0"
   }
  }
 },
 "nbformat": 4,
 "nbformat_minor": 2
}
