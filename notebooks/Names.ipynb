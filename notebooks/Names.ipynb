{
 "cells": [
  {
   "cell_type": "markdown",
   "metadata": {},
   "source": [
    "# Names"
   ]
  },
  {
   "cell_type": "code",
   "execution_count": 17,
   "metadata": {},
   "outputs": [],
   "source": [
    "import sys; sys.path.insert(0,'..')\n",
    "from bechdeltest import *"
   ]
  },
  {
   "cell_type": "markdown",
   "metadata": {},
   "source": [
    "## Getting all unique names"
   ]
  },
  {
   "cell_type": "code",
   "execution_count": 18,
   "metadata": {},
   "outputs": [],
   "source": [
    "df = get_corpus_metadata()\n",
    "# df"
   ]
  },
  {
   "cell_type": "code",
   "execution_count": 19,
   "metadata": {},
   "outputs": [],
   "source": [
    "# get_text_cast('Ted-Lasso')\n",
    "# get_text_dialogue('Ted-Lasso')"
   ]
  },
  {
   "cell_type": "code",
   "execution_count": 20,
   "metadata": {},
   "outputs": [],
   "source": [
    "def get_text_names(text_id):\n",
    "    df_cast = get_text_cast(text_id)\n",
    "    cast_names = (list(df_cast.actor_name) + list(df_cast.char_name)) if len(df_cast) else []\n",
    "    \n",
    "    df_dial = get_text_dialogue(text_id)\n",
    "    dial_names = list(df_dial.speaker) if len(df_dial) else []\n",
    "\n",
    "    return Counter(\n",
    "        str(name).title() for name in cast_names+dial_names\n",
    "    )"
   ]
  },
  {
   "cell_type": "code",
   "execution_count": 21,
   "metadata": {},
   "outputs": [],
   "source": [
    "def get_all_full_names():\n",
    "    ofn=os.path.join(PATH_DATA, 'all_full_names.json')\n",
    "    if not os.path.exists(ofn):\n",
    "        names = Counter()\n",
    "        for text_id in tqdm(df.index):\n",
    "            names += get_text_names(text_id)\n",
    "        with open(ofn,'w') as of: json.dump(dict(names.most_common()), of, indent=4)\n",
    "    else:\n",
    "        with open(ofn) as of: return json.load(of)"
   ]
  },
  {
   "cell_type": "markdown",
   "metadata": {},
   "source": [
    "## Testing if real names"
   ]
  },
  {
   "cell_type": "code",
   "execution_count": 22,
   "metadata": {},
   "outputs": [],
   "source": [
    "def check_real_names_stanza(names):\n",
    "    import stanza\n",
    "    nlp = stanza.Pipeline('en', verbose=False, processors='tokenize,mwt,ner')\n",
    "    return {\n",
    "        name:('PERSON' in {ent.type for ent in nlp(name).entities})\n",
    "        for name in tqdm(names)\n",
    "    }\n",
    "\n",
    "    "
   ]
  },
  {
   "cell_type": "code",
   "execution_count": 23,
   "metadata": {},
   "outputs": [],
   "source": [
    "def check_real_names_spacy(names):\n",
    "    # python -m spacy download en_core_web_sm\n",
    "    import spacy\n",
    "    from tqdm import tqdm\n",
    "    # Load English tokenizer, tagger, parser and NER\n",
    "    nlp = spacy.load(\"en_core_web_sm\")\n",
    "    return {\n",
    "        name:('PERSON' in {ent.label_ for ent in nlp(name).ents})\n",
    "        for name in tqdm(names)\n",
    "    }\n",
    "\n",
    "    \n"
   ]
  },
  {
   "cell_type": "code",
   "execution_count": 24,
   "metadata": {},
   "outputs": [],
   "source": [
    "# check_real_names_spacy(['Barack', 'Spacy Jones', 'Headmistress'])"
   ]
  },
  {
   "cell_type": "code",
   "execution_count": 25,
   "metadata": {},
   "outputs": [],
   "source": []
  },
  {
   "cell_type": "code",
   "execution_count": 31,
   "metadata": {},
   "outputs": [],
   "source": [
    "def get_all_full_names_real():\n",
    "    ofn = os.path.join(PATH_DATA,'all_full_names_real.json')\n",
    "    if not os.path.exists(ofn):\n",
    "        all_full_names = get_all_full_names()\n",
    "        name_reald = check_real_names_spacy(all_full_names)\n",
    "        with open(ofn, 'w') as of: json.dump(name_reald, of)\n",
    "        return name_reald\n",
    "    else:\n",
    "        with open(ofn) as f: return json.load(f)\n"
   ]
  },
  {
   "cell_type": "code",
   "execution_count": 33,
   "metadata": {},
   "outputs": [],
   "source": [
    "all_full_names_real = get_all_full_names_real()\n",
    "# all_full_names_real"
   ]
  },
  {
   "cell_type": "code",
   "execution_count": 54,
   "metadata": {},
   "outputs": [],
   "source": [
    "def get_all_first_names_real(force=False):\n",
    "    ofn = os.path.join(PATH_DATA,'all_first_names_real.json')\n",
    "    if force or not os.path.exists(ofn):\n",
    "        all_full_names_real = get_all_full_names_real()\n",
    "        all_first_names = Counter([\n",
    "            strip_punct(name.strip()).split()[0]\n",
    "            for name,isreal in all_full_names_real.items()\n",
    "            if isreal\n",
    "        ])\n",
    "        all_first_names_real = check_real_names_spacy(all_first_names)\n",
    "        with open(ofn, 'w') as of: json.dump(all_first_names_real, of)\n",
    "        return all_first_names_real\n",
    "    else:\n",
    "        with open(ofn) as f: return json.load(f)"
   ]
  },
  {
   "cell_type": "code",
   "execution_count": 55,
   "metadata": {},
   "outputs": [],
   "source": [
    "# valid_first_names = {strip_punct(name) for name,isreal in get_all_first_names_real().items() if isreal}\n",
    "# len(valid_first_names)"
   ]
  },
  {
   "cell_type": "code",
   "execution_count": 58,
   "metadata": {},
   "outputs": [],
   "source": [
    "# get_all_first_names_real()"
   ]
  },
  {
   "cell_type": "code",
   "execution_count": 60,
   "metadata": {},
   "outputs": [],
   "source": [
    "# random.sample(list(valid_first_names),10)"
   ]
  },
  {
   "cell_type": "markdown",
   "metadata": {},
   "source": [
    "## Genderize"
   ]
  },
  {
   "cell_type": "code",
   "execution_count": 61,
   "metadata": {},
   "outputs": [],
   "source": [
    "def genderfy(names):\n",
    "    apikey='10f018f37deabadcf64c7e26bc869657'\n",
    "    from genderize import Genderize\n",
    "    genderize = Genderize(\n",
    "        api_key=apikey,\n",
    "        timeout=5.0\n",
    "    )\n",
    "    return genderize.get(names)"
   ]
  },
  {
   "cell_type": "code",
   "execution_count": 63,
   "metadata": {},
   "outputs": [],
   "source": [
    "# genderfy(['Ryan','Tabitha'])"
   ]
  },
  {
   "cell_type": "code",
   "execution_count": 86,
   "metadata": {},
   "outputs": [],
   "source": [
    "def get_all_first_names_real_genderized(force=False, min_prob=.9):\n",
    "    ofn = os.path.join(PATH_DATA,'all_first_names_real_genderized.json')\n",
    "    if force or not os.path.exists(ofn):\n",
    "        all_first_names_real = get_all_first_names_real()\n",
    "        objs = list(all_first_names_real.keys())\n",
    "        res = genderfy(objs)\n",
    "        with open(ofn, 'w') as of: json.dump(res, of)\n",
    "    \n",
    "    with open(ofn) as f: ld = json.load(f)\n",
    "    odf = pd.DataFrame(ld).set_index('name')\n",
    "    odf = odf.sort_values('probability',ascending=False)\n",
    "    odf = odf[odf.probability >= min_prob]\n",
    "    return odf\n"
   ]
  },
  {
   "cell_type": "code",
   "execution_count": 87,
   "metadata": {},
   "outputs": [
    {
     "data": {
      "text/html": [
       "<div>\n",
       "<style scoped>\n",
       "    .dataframe tbody tr th:only-of-type {\n",
       "        vertical-align: middle;\n",
       "    }\n",
       "\n",
       "    .dataframe tbody tr th {\n",
       "        vertical-align: top;\n",
       "    }\n",
       "\n",
       "    .dataframe thead th {\n",
       "        text-align: right;\n",
       "    }\n",
       "</style>\n",
       "<table border=\"1\" class=\"dataframe\">\n",
       "  <thead>\n",
       "    <tr style=\"text-align: right;\">\n",
       "      <th></th>\n",
       "      <th>gender</th>\n",
       "      <th>probability</th>\n",
       "      <th>count</th>\n",
       "    </tr>\n",
       "    <tr>\n",
       "      <th>name</th>\n",
       "      <th></th>\n",
       "      <th></th>\n",
       "      <th></th>\n",
       "    </tr>\n",
       "  </thead>\n",
       "  <tbody>\n",
       "    <tr>\n",
       "      <th>Armek</th>\n",
       "      <td>male</td>\n",
       "      <td>1.0</td>\n",
       "      <td>1</td>\n",
       "    </tr>\n",
       "    <tr>\n",
       "      <th>Copeland</th>\n",
       "      <td>male</td>\n",
       "      <td>1.0</td>\n",
       "      <td>7</td>\n",
       "    </tr>\n",
       "    <tr>\n",
       "      <th>Jeananne</th>\n",
       "      <td>female</td>\n",
       "      <td>1.0</td>\n",
       "      <td>7</td>\n",
       "    </tr>\n",
       "    <tr>\n",
       "      <th>Arikah</th>\n",
       "      <td>male</td>\n",
       "      <td>1.0</td>\n",
       "      <td>1</td>\n",
       "    </tr>\n",
       "    <tr>\n",
       "      <th>Kalilah</th>\n",
       "      <td>female</td>\n",
       "      <td>1.0</td>\n",
       "      <td>6</td>\n",
       "    </tr>\n",
       "    <tr>\n",
       "      <th>...</th>\n",
       "      <td>...</td>\n",
       "      <td>...</td>\n",
       "      <td>...</td>\n",
       "    </tr>\n",
       "    <tr>\n",
       "      <th>Osi</th>\n",
       "      <td>male</td>\n",
       "      <td>0.9</td>\n",
       "      <td>583</td>\n",
       "    </tr>\n",
       "    <tr>\n",
       "      <th>Fido</th>\n",
       "      <td>male</td>\n",
       "      <td>0.9</td>\n",
       "      <td>767</td>\n",
       "    </tr>\n",
       "    <tr>\n",
       "      <th>Adler</th>\n",
       "      <td>male</td>\n",
       "      <td>0.9</td>\n",
       "      <td>333</td>\n",
       "    </tr>\n",
       "    <tr>\n",
       "      <th>Feet</th>\n",
       "      <td>male</td>\n",
       "      <td>0.9</td>\n",
       "      <td>129</td>\n",
       "    </tr>\n",
       "    <tr>\n",
       "      <th>Elmo</th>\n",
       "      <td>male</td>\n",
       "      <td>0.9</td>\n",
       "      <td>728</td>\n",
       "    </tr>\n",
       "  </tbody>\n",
       "</table>\n",
       "<p>11757 rows × 3 columns</p>\n",
       "</div>"
      ],
      "text/plain": [
       "          gender  probability  count\n",
       "name                                \n",
       "Armek       male          1.0      1\n",
       "Copeland    male          1.0      7\n",
       "Jeananne  female          1.0      7\n",
       "Arikah      male          1.0      1\n",
       "Kalilah   female          1.0      6\n",
       "...          ...          ...    ...\n",
       "Osi         male          0.9    583\n",
       "Fido        male          0.9    767\n",
       "Adler       male          0.9    333\n",
       "Feet        male          0.9    129\n",
       "Elmo        male          0.9    728\n",
       "\n",
       "[11757 rows x 3 columns]"
      ]
     },
     "execution_count": 87,
     "metadata": {},
     "output_type": "execute_result"
    }
   ],
   "source": [
    "gender_df = get_all_first_names_real_genderized()\n",
    "gender_df"
   ]
  },
  {
   "cell_type": "code",
   "execution_count": 85,
   "metadata": {},
   "outputs": [
    {
     "data": {
      "text/html": [
       "<div>\n",
       "<style scoped>\n",
       "    .dataframe tbody tr th:only-of-type {\n",
       "        vertical-align: middle;\n",
       "    }\n",
       "\n",
       "    .dataframe tbody tr th {\n",
       "        vertical-align: top;\n",
       "    }\n",
       "\n",
       "    .dataframe thead th {\n",
       "        text-align: right;\n",
       "    }\n",
       "</style>\n",
       "<table border=\"1\" class=\"dataframe\">\n",
       "  <thead>\n",
       "    <tr style=\"text-align: right;\">\n",
       "      <th></th>\n",
       "      <th>gender</th>\n",
       "      <th>probability</th>\n",
       "      <th>count</th>\n",
       "    </tr>\n",
       "    <tr>\n",
       "      <th>name</th>\n",
       "      <th></th>\n",
       "      <th></th>\n",
       "      <th></th>\n",
       "    </tr>\n",
       "  </thead>\n",
       "  <tbody>\n",
       "    <tr>\n",
       "      <th>Armek</th>\n",
       "      <td>male</td>\n",
       "      <td>1.0</td>\n",
       "      <td>1</td>\n",
       "    </tr>\n",
       "    <tr>\n",
       "      <th>Copeland</th>\n",
       "      <td>male</td>\n",
       "      <td>1.0</td>\n",
       "      <td>7</td>\n",
       "    </tr>\n",
       "    <tr>\n",
       "      <th>Jeananne</th>\n",
       "      <td>female</td>\n",
       "      <td>1.0</td>\n",
       "      <td>7</td>\n",
       "    </tr>\n",
       "    <tr>\n",
       "      <th>Arikah</th>\n",
       "      <td>male</td>\n",
       "      <td>1.0</td>\n",
       "      <td>1</td>\n",
       "    </tr>\n",
       "    <tr>\n",
       "      <th>Kalilah</th>\n",
       "      <td>female</td>\n",
       "      <td>1.0</td>\n",
       "      <td>6</td>\n",
       "    </tr>\n",
       "    <tr>\n",
       "      <th>...</th>\n",
       "      <td>...</td>\n",
       "      <td>...</td>\n",
       "      <td>...</td>\n",
       "    </tr>\n",
       "    <tr>\n",
       "      <th>Osi</th>\n",
       "      <td>male</td>\n",
       "      <td>0.9</td>\n",
       "      <td>583</td>\n",
       "    </tr>\n",
       "    <tr>\n",
       "      <th>Fido</th>\n",
       "      <td>male</td>\n",
       "      <td>0.9</td>\n",
       "      <td>767</td>\n",
       "    </tr>\n",
       "    <tr>\n",
       "      <th>Adler</th>\n",
       "      <td>male</td>\n",
       "      <td>0.9</td>\n",
       "      <td>333</td>\n",
       "    </tr>\n",
       "    <tr>\n",
       "      <th>Feet</th>\n",
       "      <td>male</td>\n",
       "      <td>0.9</td>\n",
       "      <td>129</td>\n",
       "    </tr>\n",
       "    <tr>\n",
       "      <th>Elmo</th>\n",
       "      <td>male</td>\n",
       "      <td>0.9</td>\n",
       "      <td>728</td>\n",
       "    </tr>\n",
       "  </tbody>\n",
       "</table>\n",
       "<p>11757 rows × 3 columns</p>\n",
       "</div>"
      ],
      "text/plain": [
       "          gender  probability  count\n",
       "name                                \n",
       "Armek       male          1.0      1\n",
       "Copeland    male          1.0      7\n",
       "Jeananne  female          1.0      7\n",
       "Arikah      male          1.0      1\n",
       "Kalilah   female          1.0      6\n",
       "...          ...          ...    ...\n",
       "Osi         male          0.9    583\n",
       "Fido        male          0.9    767\n",
       "Adler       male          0.9    333\n",
       "Feet        male          0.9    129\n",
       "Elmo        male          0.9    728\n",
       "\n",
       "[11757 rows x 3 columns]"
      ]
     },
     "execution_count": 85,
     "metadata": {},
     "output_type": "execute_result"
    }
   ],
   "source": []
  },
  {
   "cell_type": "code",
   "execution_count": null,
   "metadata": {},
   "outputs": [],
   "source": []
  },
  {
   "cell_type": "code",
   "execution_count": null,
   "metadata": {},
   "outputs": [],
   "source": []
  }
 ],
 "metadata": {
  "kernelspec": {
   "display_name": "Python 3.9.7 ('base')",
   "language": "python",
   "name": "python3"
  },
  "language_info": {
   "codemirror_mode": {
    "name": "ipython",
    "version": 3
   },
   "file_extension": ".py",
   "mimetype": "text/x-python",
   "name": "python",
   "nbconvert_exporter": "python",
   "pygments_lexer": "ipython3",
   "version": "3.9.7"
  },
  "orig_nbformat": 4,
  "vscode": {
   "interpreter": {
    "hash": "99c3488a746bccd77b7949f8f419451e1c962da56ebbaaae6e4d2e6c8c07eaa0"
   }
  }
 },
 "nbformat": 4,
 "nbformat_minor": 2
}
