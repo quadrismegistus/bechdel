{
 "cells": [
  {
   "cell_type": "code",
   "execution_count": 1,
   "metadata": {},
   "outputs": [],
   "source": [
    "import sys; sys.path.insert(0,'..')\n",
    "from bechdeltest import *"
   ]
  },
  {
   "cell_type": "code",
   "execution_count": 2,
   "metadata": {},
   "outputs": [],
   "source": [
    "# df"
   ]
  },
  {
   "cell_type": "code",
   "execution_count": 3,
   "metadata": {},
   "outputs": [],
   "source": [
    "# get_cast_from_imdb('0147800')"
   ]
  },
  {
   "cell_type": "code",
   "execution_count": 22,
   "metadata": {},
   "outputs": [],
   "source": [
    "def save_cast_from_imdb(rowd, force=False):\n",
    "    idx = rowd['id']\n",
    "    odir = os.path.join(PATH_CORPUS_TEXTS, idx)\n",
    "    if not os.path.exists(odir): os.makedirs(odir)\n",
    "    ofn = os.path.join(odir, f'{idx}.cast.csv')\n",
    "    if not force and os.path.exists(ofn): return\n",
    "    try:\n",
    "        odf = get_cast_from_imdb(rowd['imdb_id']).rename_axis('order')\n",
    "        odf.to_csv(ofn)\n",
    "    except Exception as e:\n",
    "        print(f'!! {e}')"
   ]
  },
  {
   "cell_type": "code",
   "execution_count": 23,
   "metadata": {},
   "outputs": [],
   "source": [
    "def add_imdb_data():\n",
    "    df = pd.read_csv(PATH_CORPUS_METADATA, dtype='str')\n",
    "    rowld = df.to_dict('records')\n",
    "    pmap(save_cast_from_imdb, rowld, num_proc=4)"
   ]
  },
  {
   "cell_type": "code",
   "execution_count": 24,
   "metadata": {},
   "outputs": [
    {
     "data": {
      "application/vnd.jupyter.widget-view+json": {
       "model_id": "1087c62b49f24dc490aa7f3b8171e6e2",
       "version_major": 2,
       "version_minor": 0
      },
      "text/plain": [
       "Mapping save_cast_from_imdb() [x4]:   0%|          | 0/2109 [00:00<?, ?it/s]"
      ]
     },
     "metadata": {},
     "output_type": "display_data"
    },
    {
     "name": "stdout",
     "output_type": "stream",
     "text": [
      "!! 'NoneType' object is not callable\n",
      "!! 'NoneType' object is not callable\n",
      "!! 'NoneType' object is not callable\n",
      "!! 'NoneType' object is not callable\n",
      "!! 'NoneType' object is not callable\n",
      "!! 'NoneType' object is not callable\n",
      "!! 'NoneType' object is not callable\n",
      "!! 'NoneType' object is not callable\n",
      "!! 'NoneType' object is not callable\n",
      "!! 'NoneType' object is not callable\n",
      "!! local variable 'char_url' referenced before assignment\n",
      "!! local variable 'char_url' referenced before assignment\n",
      "!! 'NoneType' object is not callable\n",
      "!! 'NoneType' object is not callable\n",
      "!! 'NoneType' object is not callable\n",
      "!! 'NoneType' object is not callable\n",
      "!! 'NoneType' object is not callable\n",
      "!! 'NoneType' object is not callable\n",
      "!! 'NoneType' object is not callable\n",
      "!! 'NoneType' object is not callable\n",
      "!! 'NoneType' object is not callable\n",
      "!! 'NoneType' object is not callable\n",
      "!! 'NoneType' object is not callable\n",
      "!! 'NoneType' object is not callable\n",
      "!! 'NoneType' object is not callable\n",
      "!! 'NoneType' object is not callable\n",
      "!! 'NoneType' object is not callable\n",
      "!! 'NoneType' object is not callable\n",
      "!! 'NoneType' object is not callable\n",
      "!! 'NoneType' object is not callable\n",
      "!! 'NoneType' object is not callable\n",
      "!! 'NoneType' object is not callable\n",
      "!! 'NoneType' object is not callable\n",
      "!! 'NoneType' object is not callable\n",
      "!! 'NoneType' object is not callable\n",
      "!! 'NoneType' object is not callable\n",
      "!! local variable 'char_url' referenced before assignment\n",
      "!! 'NoneType' object is not callable\n",
      "!! 'NoneType' object is not callable\n",
      "!! local variable 'char_url' referenced before assignment\n",
      "!! local variable 'char_url' referenced before assignment\n",
      "!! 'NoneType' object is not callable\n",
      "!! 'NoneType' object is not callable\n",
      "!! 'NoneType' object is not callable\n",
      "!! local variable 'char_url' referenced before assignment\n",
      "!! 'NoneType' object is not callable\n",
      "!! 'NoneType' object is not callable\n",
      "!! 'NoneType' object is not callable\n",
      "!! local variable 'char_url' referenced before assignment\n"
     ]
    }
   ],
   "source": [
    "add_imdb_data()"
   ]
  },
  {
   "cell_type": "code",
   "execution_count": null,
   "metadata": {},
   "outputs": [],
   "source": []
  }
 ],
 "metadata": {
  "kernelspec": {
   "display_name": "Python 3.9.7 ('base')",
   "language": "python",
   "name": "python3"
  },
  "language_info": {
   "codemirror_mode": {
    "name": "ipython",
    "version": 3
   },
   "file_extension": ".py",
   "mimetype": "text/x-python",
   "name": "python",
   "nbconvert_exporter": "python",
   "pygments_lexer": "ipython3",
   "version": "3.9.7"
  },
  "orig_nbformat": 4,
  "vscode": {
   "interpreter": {
    "hash": "99c3488a746bccd77b7949f8f419451e1c962da56ebbaaae6e4d2e6c8c07eaa0"
   }
  }
 },
 "nbformat": 4,
 "nbformat_minor": 2
}
