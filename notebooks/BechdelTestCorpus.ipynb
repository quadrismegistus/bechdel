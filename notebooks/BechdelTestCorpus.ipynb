{
 "cells": [
  {
   "cell_type": "code",
   "execution_count": null,
   "metadata": {},
   "outputs": [],
   "source": [
    "import sys; sys.path.insert(0,'..')\n",
    "from bechdeltest import *\n",
    "from lltk.model.networks import *"
   ]
  },
  {
   "cell_type": "code",
   "execution_count": 3,
   "metadata": {},
   "outputs": [],
   "source": [
    "C=BechdelTest()\n",
    "# C.meta"
   ]
  },
  {
   "cell_type": "code",
   "execution_count": 4,
   "metadata": {},
   "outputs": [
    {
     "data": {
      "application/vnd.jupyter.widget-view+json": {
       "model_id": "db72ce57c138452f98cc9dcef03de597",
       "version_major": 2,
       "version_minor": 0
      },
      "text/plain": [
       "[BechdelTest] Loading corpus:   0%|          | 0/34 [00:00<?, ?it/s]"
      ]
     },
     "metadata": {},
     "output_type": "display_data"
    },
    {
     "data": {
      "application/vnd.jupyter.widget-view+json": {
       "model_id": "503004646f2a45e2b9e9403127c0238b",
       "version_major": 2,
       "version_minor": 0
      },
      "text/plain": [
       "[BechdelTest] iterating texts:   0%|          | 0/34 [00:00<?, ?it/s]"
      ]
     },
     "metadata": {},
     "output_type": "display_data"
    },
    {
     "data": {
      "application/vnd.jupyter.widget-view+json": {
       "model_id": "24570bb9b9c249fabf0a1d9533102b8e",
       "version_major": 2,
       "version_minor": 0
      },
      "text/plain": [
       "Dropdown(options=('AvengersEndgame-2019', 'Batman-1989', 'BatmanBegins-2005', 'BatmanForever-1995', 'BatmanRet…"
      ]
     },
     "metadata": {},
     "output_type": "display_data"
    }
   ],
   "source": [
    "from ipywidgets import interactive,interact,interact_manual, Dropdown\n",
    "from IPython.display import display, clear_output\n",
    "\n",
    "options = list(C.meta.index)\n",
    "options.sort()\n",
    "# options\n",
    "\n",
    "dropdown = Dropdown(options=options)\n",
    "dropdown"
   ]
  },
  {
   "cell_type": "code",
   "execution_count": 5,
   "metadata": {},
   "outputs": [],
   "source": [
    "def draw(id):\n",
    "  clear_output(wait=True)\n",
    "  t = C.textd[id]\n",
    "  g = t.get_network()\n",
    "  \n",
    "  \n",
    "  printm(f'### {id}')\n",
    "  draw_nx(g,show=True)\n",
    "\n",
    "  printm(f'#### Bechdeltest.com score')\n",
    "  t.show_bechdel_scores()\n",
    "\n",
    "  printm(f'#### Dialogue between non-cismen')\n",
    "  t.show_nonCM_dialogue()\n",
    "\n",
    "  printm(f'#### Dialogue between people of  color')\n",
    "  t.show_POC_dialogue()\n",
    "  \n",
    "\n",
    "\n",
    "draw(dropdown.value)    "
   ]
  },
  {
   "cell_type": "code",
   "execution_count": null,
   "metadata": {},
   "outputs": [],
   "source": []
  }
 ],
 "metadata": {
  "kernelspec": {
   "display_name": "base",
   "language": "python",
   "name": "base"
  },
  "language_info": {
   "codemirror_mode": {
    "name": "ipython",
    "version": 3
   },
   "file_extension": ".py",
   "mimetype": "text/x-python",
   "name": "python",
   "nbconvert_exporter": "python",
   "pygments_lexer": "ipython3",
   "version": "3.9.7"
  },
  "vscode": {
   "interpreter": {
    "hash": "99c3488a746bccd77b7949f8f419451e1c962da56ebbaaae6e4d2e6c8c07eaa0"
   }
  }
 },
 "nbformat": 4,
 "nbformat_minor": 2
}
