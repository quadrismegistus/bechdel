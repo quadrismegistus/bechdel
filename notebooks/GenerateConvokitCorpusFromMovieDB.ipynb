{
 "cells": [
  {
   "cell_type": "code",
   "execution_count": 4,
   "metadata": {},
   "outputs": [],
   "source": [
    "import sys; sys.path.insert(0,'..')\n",
    "from bechdeltest import *\n",
    "from convokit import Corpus"
   ]
  },
  {
   "cell_type": "code",
   "execution_count": 7,
   "metadata": {},
   "outputs": [],
   "source": [
    "def get_conversation_dataframes_from_csvs(folder=None,files=None):\n",
    "    if not files and not folder: return\n",
    "    if not files and folder: \n",
    "        files=[\n",
    "            os.path.join(folder,fn)\n",
    "            for fn in os.listdir(folder)\n",
    "            if fn.endswith('.csv')\n",
    "        ]\n",
    "\n",
    "    iterr = pmap_iter(get_conversation_dataframes_from_csv, files)#[:10], num_proc=1)\n",
    "    \n",
    "    # df_spkr, df_conv, df_uttr = pd.DataFrame(), pd.DataFrame(), pd.DataFrame()\n",
    "    df_spkr, df_conv, df_uttr = [], [], []\n",
    "    for res in iterr:\n",
    "        this_df_spkr, this_df_conv, this_df_uttr = res\n",
    "        # df_spkr = pd.concat([df_spkr, this_df_spkr])\n",
    "        # df_conv = pd.concat([df_conv, this_df_conv])\n",
    "        # df_uttr = pd.concat([df_uttr, this_df_uttr])\n",
    "        df_spkr.append(this_df_spkr)\n",
    "        df_conv.append(this_df_conv)\n",
    "        df_uttr.append(this_df_uttr)\n",
    "\n",
    "    \n",
    "    return (pd.concat(df_spkr), pd.concat(df_conv), pd.concat(df_uttr))\n",
    "\n"
   ]
  },
  {
   "cell_type": "code",
   "execution_count": 11,
   "metadata": {},
   "outputs": [
    {
     "data": {
      "application/vnd.jupyter.widget-view+json": {
       "model_id": "20ea5827ebac4f32b4683d8ea308e09d",
       "version_major": 2,
       "version_minor": 0
      },
      "text/plain": [
       "Mapping get_conversation_dataframes_from_csv() [x8]:   0%|          | 0/1906 [00:00<?, ?it/s]"
      ]
     },
     "metadata": {},
     "output_type": "display_data"
    }
   ],
   "source": [
    "df_spkr, df_conv, df_uttr = get_conversation_dataframes_from_csvs('/Users/ryan/.bechdel/data/scripts_csv')"
   ]
  },
  {
   "cell_type": "code",
   "execution_count": 12,
   "metadata": {},
   "outputs": [
    {
     "data": {
      "text/plain": [
       "21254739"
      ]
     },
     "execution_count": 12,
     "metadata": {},
     "output_type": "execute_result"
    }
   ],
   "source": [
    "df_uttr['meta.speech_num_words'].sum()"
   ]
  },
  {
   "cell_type": "code",
   "execution_count": 13,
   "metadata": {},
   "outputs": [
    {
     "name": "stderr",
     "output_type": "stream",
     "text": [
      "1505463it [00:58, 25618.91it/s]\n"
     ]
    },
    {
     "data": {
      "text/plain": [
       "<convokit.model.corpus.Corpus at 0x2ba642460>"
      ]
     },
     "execution_count": 13,
     "metadata": {},
     "output_type": "execute_result"
    }
   ],
   "source": [
    "from convokit import Corpus\n",
    "new_corpus = Corpus.from_pandas(\n",
    "    speakers_df=df_spkr,\n",
    "    conversations_df=df_conv,\n",
    "    utterances_df=df_uttr,\n",
    ")\n",
    "new_corpus"
   ]
  },
  {
   "cell_type": "code",
   "execution_count": 15,
   "metadata": {},
   "outputs": [
    {
     "name": "stdout",
     "output_type": "stream",
     "text": [
      "Number of Speakers: 143871\n",
      "Number of Utterances: 1505463\n",
      "Number of Conversations: 147487\n"
     ]
    }
   ],
   "source": [
    "new_corpus.print_summary_stats()"
   ]
  },
  {
   "cell_type": "code",
   "execution_count": 16,
   "metadata": {},
   "outputs": [],
   "source": [
    "new_corpus.dump('movie-script-db')"
   ]
  },
  {
   "cell_type": "code",
   "execution_count": 28,
   "metadata": {},
   "outputs": [],
   "source": [
    "convo=new_corpus.get_conversation('The-Matrix.scene_0021')"
   ]
  },
  {
   "cell_type": "code",
   "execution_count": 29,
   "metadata": {},
   "outputs": [
    {
     "data": {
      "text/plain": [
       "[Utterance({'obj_type': 'utterance', 'meta': {'speech_direction': '', 'speech_narration': 'Screaming, Neo bolts upright in bed. He realizes that he is home. Was it a dream? His mouth is normal. His stomach looks fine. He starts to take a deep, everything-is-okay breath when -The PHONE RINGS. It almost stops his heart. It continues RINGING, building pressure in the room, forcing him up out of bed, sucking him in with an almost gravitational force. He answers it, saying nothing. THE MATRIX - Rev. 3/9/98', 'speech_num_words': 12}, 'vectors': [], 'speaker': Speaker({'obj_type': 'speaker', 'meta': {}, 'vectors': [], 'owner': None, 'id': 'The-Matrix.Morpheus'}), 'conversation_id': 'The-Matrix.scene_0021', 'reply_to': None, 'timestamp': 116, 'text': 'This line is tapped so I must be brief. The Agents --', 'owner': <convokit.model.corpus.Corpus object at 0x2a9b21ac0>, 'id': 'The-Matrix.speech_0116'}),\n",
       " Utterance({'obj_type': 'utterance', 'meta': {'speech_direction': 'V.O.', 'speech_narration': '', 'speech_num_words': 23}, 'vectors': [], 'speaker': Speaker({'obj_type': 'speaker', 'meta': {}, 'vectors': [], 'owner': None, 'id': 'The-Matrix.Neo-Morpheus'}), 'conversation_id': 'The-Matrix.scene_0021', 'reply_to': None, 'timestamp': 117, 'text': \"They got to you first, but they've underestimated how important you are. If they knew what I know, you would probably be dead.\", 'owner': <convokit.model.corpus.Corpus object at 0x2a9b21ac0>, 'id': 'The-Matrix.speech_0117'}),\n",
       " Utterance({'obj_type': 'utterance', 'meta': {'speech_direction': 'V.O.', 'speech_narration': '', 'speech_num_words': 12}, 'vectors': [], 'speaker': Speaker({'obj_type': 'speaker', 'meta': {}, 'vectors': [], 'owner': None, 'id': 'The-Matrix.Neo'}), 'conversation_id': 'The-Matrix.scene_0021', 'reply_to': None, 'timestamp': 118, 'text': 'What are you talking about? What the hell is happening to me?', 'owner': <convokit.model.corpus.Corpus object at 0x2a9b21ac0>, 'id': 'The-Matrix.speech_0118'}),\n",
       " Utterance({'obj_type': 'utterance', 'meta': {'speech_direction': '', 'speech_narration': '', 'speech_num_words': 30}, 'vectors': [], 'speaker': Speaker({'obj_type': 'speaker', 'meta': {}, 'vectors': [], 'owner': None, 'id': 'The-Matrix.Morpheus'}), 'conversation_id': 'The-Matrix.scene_0021', 'reply_to': None, 'timestamp': 119, 'text': \"You're the One, Neo. You see, you may have spent the last few years looking for me, but I've spent most of my life looking for you. Neo feels sick.\", 'owner': <convokit.model.corpus.Corpus object at 0x2a9b21ac0>, 'id': 'The-Matrix.speech_0119'}),\n",
       " Utterance({'obj_type': 'utterance', 'meta': {'speech_direction': 'V.O.', 'speech_narration': '', 'speech_num_words': 8}, 'vectors': [], 'speaker': Speaker({'obj_type': 'speaker', 'meta': {}, 'vectors': [], 'owner': None, 'id': 'The-Matrix.Morpheus'}), 'conversation_id': 'The-Matrix.scene_0021', 'reply_to': None, 'timestamp': 120, 'text': 'Do you still want to meet? ... Yes.', 'owner': <convokit.model.corpus.Corpus object at 0x2a9b21ac0>, 'id': 'The-Matrix.speech_0120'}),\n",
       " Utterance({'obj_type': 'utterance', 'meta': {'speech_direction': 'V.O.', 'speech_narration': '', 'speech_num_words': 7}, 'vectors': [], 'speaker': Speaker({'obj_type': 'speaker', 'meta': {}, 'vectors': [], 'owner': None, 'id': 'The-Matrix.Neo-Morpheus'}), 'conversation_id': 'The-Matrix.scene_0021', 'reply_to': None, 'timestamp': 121, 'text': 'Go to the Adams Street bridge. CLICK.', 'owner': <convokit.model.corpus.Corpus object at 0x2a9b21ac0>, 'id': 'The-Matrix.speech_0121'})]"
      ]
     },
     "execution_count": 29,
     "metadata": {},
     "output_type": "execute_result"
    }
   ],
   "source": [
    "convo.get_chronological_utterance_list()"
   ]
  },
  {
   "cell_type": "code",
   "execution_count": null,
   "metadata": {},
   "outputs": [],
   "source": []
  },
  {
   "cell_type": "code",
   "execution_count": null,
   "metadata": {},
   "outputs": [],
   "source": []
  }
 ],
 "metadata": {
  "kernelspec": {
   "display_name": "Python 3.9.7 ('base')",
   "language": "python",
   "name": "python3"
  },
  "language_info": {
   "codemirror_mode": {
    "name": "ipython",
    "version": 3
   },
   "file_extension": ".py",
   "mimetype": "text/x-python",
   "name": "python",
   "nbconvert_exporter": "python",
   "pygments_lexer": "ipython3",
   "version": "3.9.7"
  },
  "orig_nbformat": 4,
  "vscode": {
   "interpreter": {
    "hash": "99c3488a746bccd77b7949f8f419451e1c962da56ebbaaae6e4d2e6c8c07eaa0"
   }
  }
 },
 "nbformat": 4,
 "nbformat_minor": 2
}
