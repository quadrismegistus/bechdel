{
  "cells": [
    {
      "cell_type": "markdown",
      "metadata": {
        "id": "NsUq3jlsV8DC"
      },
      "source": [
        "# Cornell Movie Dialogs"
      ]
    },
    {
      "cell_type": "code",
      "execution_count": null,
      "metadata": {
        "id": "ep1N46wAV2Fv"
      },
      "outputs": [],
      "source": []
    },
    {
      "cell_type": "code",
      "execution_count": null,
      "metadata": {
        "colab": {
          "base_uri": "https://localhost:8080/"
        },
        "id": "3EghHE_nWKMG",
        "outputId": "b6002f2b-c206-47f5-b282-7d025ecacc47"
      },
      "outputs": [
        {
          "name": "stdout",
          "output_type": "stream",
          "text": [
            "Downloading movie-corpus to /root/.convokit/downloads/movie-corpus\n",
            "Downloading movie-corpus from http://zissou.infosci.cornell.edu/convokit/datasets/movie-corpus/movie-corpus.zip (40.9MB)... Done\n"
          ]
        }
      ],
      "source": []
    },
    {
      "cell_type": "code",
      "execution_count": null,
      "metadata": {
        "colab": {
          "base_uri": "https://localhost:8080/"
        },
        "id": "sG37DTQxgA12",
        "outputId": "19e507d9-7faa-4e60-b262-8e4120aae214"
      },
      "outputs": [
        {
          "name": "stdout",
          "output_type": "stream",
          "text": [
            "Number of Speakers: 9035\n",
            "Number of Utterances: 304713\n",
            "Number of Conversations: 83097\n"
          ]
        }
      ],
      "source": [
        "corpus.print_summary_stats()"
      ]
    },
    {
      "cell_type": "code",
      "execution_count": null,
      "metadata": {
        "id": "0cEk0u-ihh5q"
      },
      "outputs": [],
      "source": [
        "### Dataframes"
      ]
    },
    {
      "cell_type": "markdown",
      "metadata": {
        "id": "QD7XCP-Mjr26"
      },
      "source": [
        "## Dataframes"
      ]
    },
    {
      "cell_type": "markdown",
      "metadata": {
        "id": "l8bK00lwkPyR"
      },
      "source": [
        "### Conversations"
      ]
    },
    {
      "cell_type": "code",
      "execution_count": null,
      "metadata": {
        "colab": {
          "base_uri": "https://localhost:8080/",
          "height": 455
        },
        "id": "od_UEoz-jtHs",
        "outputId": "8aa483f0-37db-47de-d041-4f63bcb2f351"
      },
      "outputs": [
        {
          "data": {
            "text/html": [
              "\n",
              "  <div id=\"df-8eac3842-0079-40f0-9710-5bfb9a69cceb\">\n",
              "    <div class=\"colab-df-container\">\n",
              "      <div>\n",
              "<style scoped>\n",
              "    .dataframe tbody tr th:only-of-type {\n",
              "        vertical-align: middle;\n",
              "    }\n",
              "\n",
              "    .dataframe tbody tr th {\n",
              "        vertical-align: top;\n",
              "    }\n",
              "\n",
              "    .dataframe thead th {\n",
              "        text-align: right;\n",
              "    }\n",
              "</style>\n",
              "<table border=\"1\" class=\"dataframe\">\n",
              "  <thead>\n",
              "    <tr style=\"text-align: right;\">\n",
              "      <th></th>\n",
              "      <th>vectors</th>\n",
              "      <th>meta.movie_idx</th>\n",
              "      <th>meta.movie_name</th>\n",
              "      <th>meta.release_year</th>\n",
              "      <th>meta.rating</th>\n",
              "      <th>meta.votes</th>\n",
              "      <th>meta.genre</th>\n",
              "    </tr>\n",
              "    <tr>\n",
              "      <th>id</th>\n",
              "      <th></th>\n",
              "      <th></th>\n",
              "      <th></th>\n",
              "      <th></th>\n",
              "      <th></th>\n",
              "      <th></th>\n",
              "      <th></th>\n",
              "    </tr>\n",
              "  </thead>\n",
              "  <tbody>\n",
              "    <tr>\n",
              "      <th>L1044</th>\n",
              "      <td>[]</td>\n",
              "      <td>m0</td>\n",
              "      <td>10 things i hate about you</td>\n",
              "      <td>1999</td>\n",
              "      <td>6.90</td>\n",
              "      <td>62847</td>\n",
              "      <td>['comedy', 'romance']</td>\n",
              "    </tr>\n",
              "    <tr>\n",
              "      <th>L984</th>\n",
              "      <td>[]</td>\n",
              "      <td>m0</td>\n",
              "      <td>10 things i hate about you</td>\n",
              "      <td>1999</td>\n",
              "      <td>6.90</td>\n",
              "      <td>62847</td>\n",
              "      <td>['comedy', 'romance']</td>\n",
              "    </tr>\n",
              "    <tr>\n",
              "      <th>L924</th>\n",
              "      <td>[]</td>\n",
              "      <td>m0</td>\n",
              "      <td>10 things i hate about you</td>\n",
              "      <td>1999</td>\n",
              "      <td>6.90</td>\n",
              "      <td>62847</td>\n",
              "      <td>['comedy', 'romance']</td>\n",
              "    </tr>\n",
              "    <tr>\n",
              "      <th>L870</th>\n",
              "      <td>[]</td>\n",
              "      <td>m0</td>\n",
              "      <td>10 things i hate about you</td>\n",
              "      <td>1999</td>\n",
              "      <td>6.90</td>\n",
              "      <td>62847</td>\n",
              "      <td>['comedy', 'romance']</td>\n",
              "    </tr>\n",
              "    <tr>\n",
              "      <th>L866</th>\n",
              "      <td>[]</td>\n",
              "      <td>m0</td>\n",
              "      <td>10 things i hate about you</td>\n",
              "      <td>1999</td>\n",
              "      <td>6.90</td>\n",
              "      <td>62847</td>\n",
              "      <td>['comedy', 'romance']</td>\n",
              "    </tr>\n",
              "    <tr>\n",
              "      <th>...</th>\n",
              "      <td>...</td>\n",
              "      <td>...</td>\n",
              "      <td>...</td>\n",
              "      <td>...</td>\n",
              "      <td>...</td>\n",
              "      <td>...</td>\n",
              "      <td>...</td>\n",
              "    </tr>\n",
              "    <tr>\n",
              "      <th>L666324</th>\n",
              "      <td>[]</td>\n",
              "      <td>m616</td>\n",
              "      <td>zulu dawn</td>\n",
              "      <td>1979</td>\n",
              "      <td>6.40</td>\n",
              "      <td>1911</td>\n",
              "      <td>['action', 'adventure', 'drama', 'history', 'w...</td>\n",
              "    </tr>\n",
              "    <tr>\n",
              "      <th>L666262</th>\n",
              "      <td>[]</td>\n",
              "      <td>m616</td>\n",
              "      <td>zulu dawn</td>\n",
              "      <td>1979</td>\n",
              "      <td>6.40</td>\n",
              "      <td>1911</td>\n",
              "      <td>['action', 'adventure', 'drama', 'history', 'w...</td>\n",
              "    </tr>\n",
              "    <tr>\n",
              "      <th>L666520</th>\n",
              "      <td>[]</td>\n",
              "      <td>m616</td>\n",
              "      <td>zulu dawn</td>\n",
              "      <td>1979</td>\n",
              "      <td>6.40</td>\n",
              "      <td>1911</td>\n",
              "      <td>['action', 'adventure', 'drama', 'history', 'w...</td>\n",
              "    </tr>\n",
              "    <tr>\n",
              "      <th>L666369</th>\n",
              "      <td>[]</td>\n",
              "      <td>m616</td>\n",
              "      <td>zulu dawn</td>\n",
              "      <td>1979</td>\n",
              "      <td>6.40</td>\n",
              "      <td>1911</td>\n",
              "      <td>['action', 'adventure', 'drama', 'history', 'w...</td>\n",
              "    </tr>\n",
              "    <tr>\n",
              "      <th>L666256</th>\n",
              "      <td>[]</td>\n",
              "      <td>m616</td>\n",
              "      <td>zulu dawn</td>\n",
              "      <td>1979</td>\n",
              "      <td>6.40</td>\n",
              "      <td>1911</td>\n",
              "      <td>['action', 'adventure', 'drama', 'history', 'w...</td>\n",
              "    </tr>\n",
              "  </tbody>\n",
              "</table>\n",
              "<p>83097 rows × 7 columns</p>\n",
              "</div>\n",
              "      <button class=\"colab-df-convert\" onclick=\"convertToInteractive('df-8eac3842-0079-40f0-9710-5bfb9a69cceb')\"\n",
              "              title=\"Convert this dataframe to an interactive table.\"\n",
              "              style=\"display:none;\">\n",
              "        \n",
              "  <svg xmlns=\"http://www.w3.org/2000/svg\" height=\"24px\"viewBox=\"0 0 24 24\"\n",
              "       width=\"24px\">\n",
              "    <path d=\"M0 0h24v24H0V0z\" fill=\"none\"/>\n",
              "    <path d=\"M18.56 5.44l.94 2.06.94-2.06 2.06-.94-2.06-.94-.94-2.06-.94 2.06-2.06.94zm-11 1L8.5 8.5l.94-2.06 2.06-.94-2.06-.94L8.5 2.5l-.94 2.06-2.06.94zm10 10l.94 2.06.94-2.06 2.06-.94-2.06-.94-.94-2.06-.94 2.06-2.06.94z\"/><path d=\"M17.41 7.96l-1.37-1.37c-.4-.4-.92-.59-1.43-.59-.52 0-1.04.2-1.43.59L10.3 9.45l-7.72 7.72c-.78.78-.78 2.05 0 2.83L4 21.41c.39.39.9.59 1.41.59.51 0 1.02-.2 1.41-.59l7.78-7.78 2.81-2.81c.8-.78.8-2.07 0-2.86zM5.41 20L4 18.59l7.72-7.72 1.47 1.35L5.41 20z\"/>\n",
              "  </svg>\n",
              "      </button>\n",
              "      \n",
              "  <style>\n",
              "    .colab-df-container {\n",
              "      display:flex;\n",
              "      flex-wrap:wrap;\n",
              "      gap: 12px;\n",
              "    }\n",
              "\n",
              "    .colab-df-convert {\n",
              "      background-color: #E8F0FE;\n",
              "      border: none;\n",
              "      border-radius: 50%;\n",
              "      cursor: pointer;\n",
              "      display: none;\n",
              "      fill: #1967D2;\n",
              "      height: 32px;\n",
              "      padding: 0 0 0 0;\n",
              "      width: 32px;\n",
              "    }\n",
              "\n",
              "    .colab-df-convert:hover {\n",
              "      background-color: #E2EBFA;\n",
              "      box-shadow: 0px 1px 2px rgba(60, 64, 67, 0.3), 0px 1px 3px 1px rgba(60, 64, 67, 0.15);\n",
              "      fill: #174EA6;\n",
              "    }\n",
              "\n",
              "    [theme=dark] .colab-df-convert {\n",
              "      background-color: #3B4455;\n",
              "      fill: #D2E3FC;\n",
              "    }\n",
              "\n",
              "    [theme=dark] .colab-df-convert:hover {\n",
              "      background-color: #434B5C;\n",
              "      box-shadow: 0px 1px 3px 1px rgba(0, 0, 0, 0.15);\n",
              "      filter: drop-shadow(0px 1px 2px rgba(0, 0, 0, 0.3));\n",
              "      fill: #FFFFFF;\n",
              "    }\n",
              "  </style>\n",
              "\n",
              "      <script>\n",
              "        const buttonEl =\n",
              "          document.querySelector('#df-8eac3842-0079-40f0-9710-5bfb9a69cceb button.colab-df-convert');\n",
              "        buttonEl.style.display =\n",
              "          google.colab.kernel.accessAllowed ? 'block' : 'none';\n",
              "\n",
              "        async function convertToInteractive(key) {\n",
              "          const element = document.querySelector('#df-8eac3842-0079-40f0-9710-5bfb9a69cceb');\n",
              "          const dataTable =\n",
              "            await google.colab.kernel.invokeFunction('convertToInteractive',\n",
              "                                                     [key], {});\n",
              "          if (!dataTable) return;\n",
              "\n",
              "          const docLinkHtml = 'Like what you see? Visit the ' +\n",
              "            '<a target=\"_blank\" href=https://colab.research.google.com/notebooks/data_table.ipynb>data table notebook</a>'\n",
              "            + ' to learn more about interactive tables.';\n",
              "          element.innerHTML = '';\n",
              "          dataTable['output_type'] = 'display_data';\n",
              "          await google.colab.output.renderOutput(dataTable, element);\n",
              "          const docLink = document.createElement('div');\n",
              "          docLink.innerHTML = docLinkHtml;\n",
              "          element.appendChild(docLink);\n",
              "        }\n",
              "      </script>\n",
              "    </div>\n",
              "  </div>\n",
              "  "
            ],
            "text/plain": [
              "        vectors meta.movie_idx             meta.movie_name meta.release_year  \\\n",
              "id                                                                             \n",
              "L1044        []             m0  10 things i hate about you              1999   \n",
              "L984         []             m0  10 things i hate about you              1999   \n",
              "L924         []             m0  10 things i hate about you              1999   \n",
              "L870         []             m0  10 things i hate about you              1999   \n",
              "L866         []             m0  10 things i hate about you              1999   \n",
              "...         ...            ...                         ...               ...   \n",
              "L666324      []           m616                   zulu dawn              1979   \n",
              "L666262      []           m616                   zulu dawn              1979   \n",
              "L666520      []           m616                   zulu dawn              1979   \n",
              "L666369      []           m616                   zulu dawn              1979   \n",
              "L666256      []           m616                   zulu dawn              1979   \n",
              "\n",
              "        meta.rating meta.votes  \\\n",
              "id                               \n",
              "L1044          6.90      62847   \n",
              "L984           6.90      62847   \n",
              "L924           6.90      62847   \n",
              "L870           6.90      62847   \n",
              "L866           6.90      62847   \n",
              "...             ...        ...   \n",
              "L666324        6.40       1911   \n",
              "L666262        6.40       1911   \n",
              "L666520        6.40       1911   \n",
              "L666369        6.40       1911   \n",
              "L666256        6.40       1911   \n",
              "\n",
              "                                                meta.genre  \n",
              "id                                                          \n",
              "L1044                                ['comedy', 'romance']  \n",
              "L984                                 ['comedy', 'romance']  \n",
              "L924                                 ['comedy', 'romance']  \n",
              "L870                                 ['comedy', 'romance']  \n",
              "L866                                 ['comedy', 'romance']  \n",
              "...                                                    ...  \n",
              "L666324  ['action', 'adventure', 'drama', 'history', 'w...  \n",
              "L666262  ['action', 'adventure', 'drama', 'history', 'w...  \n",
              "L666520  ['action', 'adventure', 'drama', 'history', 'w...  \n",
              "L666369  ['action', 'adventure', 'drama', 'history', 'w...  \n",
              "L666256  ['action', 'adventure', 'drama', 'history', 'w...  \n",
              "\n",
              "[83097 rows x 7 columns]"
            ]
          },
          "execution_count": 49,
          "metadata": {},
          "output_type": "execute_result"
        }
      ],
      "source": [
        "df_convos = corpus.get_conversations_dataframe()\n",
        "df_convos"
      ]
    },
    {
      "cell_type": "code",
      "execution_count": null,
      "metadata": {
        "colab": {
          "base_uri": "https://localhost:8080/",
          "height": 455
        },
        "id": "UYDb4NReligU",
        "outputId": "6fb24d69-50e1-41d6-bd47-411f8d4696c6"
      },
      "outputs": [
        {
          "data": {
            "text/html": [
              "\n",
              "  <div id=\"df-397f4913-d3cc-430b-95d0-7b4105bf5686\">\n",
              "    <div class=\"colab-df-container\">\n",
              "      <div>\n",
              "<style scoped>\n",
              "    .dataframe tbody tr th:only-of-type {\n",
              "        vertical-align: middle;\n",
              "    }\n",
              "\n",
              "    .dataframe tbody tr th {\n",
              "        vertical-align: top;\n",
              "    }\n",
              "\n",
              "    .dataframe thead th {\n",
              "        text-align: right;\n",
              "    }\n",
              "</style>\n",
              "<table border=\"1\" class=\"dataframe\">\n",
              "  <thead>\n",
              "    <tr style=\"text-align: right;\">\n",
              "      <th></th>\n",
              "      <th>movie_name</th>\n",
              "      <th>release_year</th>\n",
              "      <th>rating</th>\n",
              "      <th>votes</th>\n",
              "      <th>genre</th>\n",
              "      <th>num_convos</th>\n",
              "    </tr>\n",
              "    <tr>\n",
              "      <th>movie_idx</th>\n",
              "      <th></th>\n",
              "      <th></th>\n",
              "      <th></th>\n",
              "      <th></th>\n",
              "      <th></th>\n",
              "      <th></th>\n",
              "    </tr>\n",
              "  </thead>\n",
              "  <tbody>\n",
              "    <tr>\n",
              "      <th>m289</th>\n",
              "      <td>casino</td>\n",
              "      <td>1995</td>\n",
              "      <td>8.10</td>\n",
              "      <td>111223</td>\n",
              "      <td>['biography', 'crime', 'drama']</td>\n",
              "      <td>338</td>\n",
              "    </tr>\n",
              "    <tr>\n",
              "      <th>m90</th>\n",
              "      <td>his girl friday</td>\n",
              "      <td>1940</td>\n",
              "      <td>8.10</td>\n",
              "      <td>20870</td>\n",
              "      <td>['comedy', 'drama', 'romance']</td>\n",
              "      <td>309</td>\n",
              "    </tr>\n",
              "    <tr>\n",
              "      <th>m435</th>\n",
              "      <td>meet joe black</td>\n",
              "      <td>1998</td>\n",
              "      <td>6.90</td>\n",
              "      <td>56839</td>\n",
              "      <td>['drama', 'fantasy', 'mystery', 'romance']</td>\n",
              "      <td>301</td>\n",
              "    </tr>\n",
              "    <tr>\n",
              "      <th>m100</th>\n",
              "      <td>innerspace</td>\n",
              "      <td>1987</td>\n",
              "      <td>6.50</td>\n",
              "      <td>16854</td>\n",
              "      <td>['action', 'adventure', 'comedy', 'crime', 'sc...</td>\n",
              "      <td>300</td>\n",
              "    </tr>\n",
              "    <tr>\n",
              "      <th>m380</th>\n",
              "      <td>hannah and her sisters</td>\n",
              "      <td>1986</td>\n",
              "      <td>7.90</td>\n",
              "      <td>21088</td>\n",
              "      <td>['comedy', 'drama', 'romance']</td>\n",
              "      <td>289</td>\n",
              "    </tr>\n",
              "    <tr>\n",
              "      <th>...</th>\n",
              "      <td>...</td>\n",
              "      <td>...</td>\n",
              "      <td>...</td>\n",
              "      <td>...</td>\n",
              "      <td>...</td>\n",
              "      <td>...</td>\n",
              "    </tr>\n",
              "    <tr>\n",
              "      <th>m484</th>\n",
              "      <td>vampyr</td>\n",
              "      <td>1932</td>\n",
              "      <td>7.60</td>\n",
              "      <td>4005</td>\n",
              "      <td>['fantasy', 'horror']</td>\n",
              "      <td>8</td>\n",
              "    </tr>\n",
              "    <tr>\n",
              "      <th>m270</th>\n",
              "      <td>the black dahlia</td>\n",
              "      <td>2006</td>\n",
              "      <td>5.60</td>\n",
              "      <td>35706</td>\n",
              "      <td>['crime', 'drama', 'history', 'mystery', 'thri...</td>\n",
              "      <td>3</td>\n",
              "    </tr>\n",
              "    <tr>\n",
              "      <th>m521</th>\n",
              "      <td>soldier</td>\n",
              "      <td>1998/I</td>\n",
              "      <td>5.60</td>\n",
              "      <td>16446</td>\n",
              "      <td>['action', 'drama', 'sci-fi']</td>\n",
              "      <td>3</td>\n",
              "    </tr>\n",
              "    <tr>\n",
              "      <th>m602</th>\n",
              "      <td>what women want</td>\n",
              "      <td>2000</td>\n",
              "      <td>6.30</td>\n",
              "      <td>55269</td>\n",
              "      <td>['comedy', 'fantasy', 'romance']</td>\n",
              "      <td>1</td>\n",
              "    </tr>\n",
              "    <tr>\n",
              "      <th>m406</th>\n",
              "      <td>the jazz singer</td>\n",
              "      <td>1927</td>\n",
              "      <td>6.80</td>\n",
              "      <td>3252</td>\n",
              "      <td>['drama', 'music', 'romance']</td>\n",
              "      <td>1</td>\n",
              "    </tr>\n",
              "  </tbody>\n",
              "</table>\n",
              "<p>617 rows × 6 columns</p>\n",
              "</div>\n",
              "      <button class=\"colab-df-convert\" onclick=\"convertToInteractive('df-397f4913-d3cc-430b-95d0-7b4105bf5686')\"\n",
              "              title=\"Convert this dataframe to an interactive table.\"\n",
              "              style=\"display:none;\">\n",
              "        \n",
              "  <svg xmlns=\"http://www.w3.org/2000/svg\" height=\"24px\"viewBox=\"0 0 24 24\"\n",
              "       width=\"24px\">\n",
              "    <path d=\"M0 0h24v24H0V0z\" fill=\"none\"/>\n",
              "    <path d=\"M18.56 5.44l.94 2.06.94-2.06 2.06-.94-2.06-.94-.94-2.06-.94 2.06-2.06.94zm-11 1L8.5 8.5l.94-2.06 2.06-.94-2.06-.94L8.5 2.5l-.94 2.06-2.06.94zm10 10l.94 2.06.94-2.06 2.06-.94-2.06-.94-.94-2.06-.94 2.06-2.06.94z\"/><path d=\"M17.41 7.96l-1.37-1.37c-.4-.4-.92-.59-1.43-.59-.52 0-1.04.2-1.43.59L10.3 9.45l-7.72 7.72c-.78.78-.78 2.05 0 2.83L4 21.41c.39.39.9.59 1.41.59.51 0 1.02-.2 1.41-.59l7.78-7.78 2.81-2.81c.8-.78.8-2.07 0-2.86zM5.41 20L4 18.59l7.72-7.72 1.47 1.35L5.41 20z\"/>\n",
              "  </svg>\n",
              "      </button>\n",
              "      \n",
              "  <style>\n",
              "    .colab-df-container {\n",
              "      display:flex;\n",
              "      flex-wrap:wrap;\n",
              "      gap: 12px;\n",
              "    }\n",
              "\n",
              "    .colab-df-convert {\n",
              "      background-color: #E8F0FE;\n",
              "      border: none;\n",
              "      border-radius: 50%;\n",
              "      cursor: pointer;\n",
              "      display: none;\n",
              "      fill: #1967D2;\n",
              "      height: 32px;\n",
              "      padding: 0 0 0 0;\n",
              "      width: 32px;\n",
              "    }\n",
              "\n",
              "    .colab-df-convert:hover {\n",
              "      background-color: #E2EBFA;\n",
              "      box-shadow: 0px 1px 2px rgba(60, 64, 67, 0.3), 0px 1px 3px 1px rgba(60, 64, 67, 0.15);\n",
              "      fill: #174EA6;\n",
              "    }\n",
              "\n",
              "    [theme=dark] .colab-df-convert {\n",
              "      background-color: #3B4455;\n",
              "      fill: #D2E3FC;\n",
              "    }\n",
              "\n",
              "    [theme=dark] .colab-df-convert:hover {\n",
              "      background-color: #434B5C;\n",
              "      box-shadow: 0px 1px 3px 1px rgba(0, 0, 0, 0.15);\n",
              "      filter: drop-shadow(0px 1px 2px rgba(0, 0, 0, 0.3));\n",
              "      fill: #FFFFFF;\n",
              "    }\n",
              "  </style>\n",
              "\n",
              "      <script>\n",
              "        const buttonEl =\n",
              "          document.querySelector('#df-397f4913-d3cc-430b-95d0-7b4105bf5686 button.colab-df-convert');\n",
              "        buttonEl.style.display =\n",
              "          google.colab.kernel.accessAllowed ? 'block' : 'none';\n",
              "\n",
              "        async function convertToInteractive(key) {\n",
              "          const element = document.querySelector('#df-397f4913-d3cc-430b-95d0-7b4105bf5686');\n",
              "          const dataTable =\n",
              "            await google.colab.kernel.invokeFunction('convertToInteractive',\n",
              "                                                     [key], {});\n",
              "          if (!dataTable) return;\n",
              "\n",
              "          const docLinkHtml = 'Like what you see? Visit the ' +\n",
              "            '<a target=\"_blank\" href=https://colab.research.google.com/notebooks/data_table.ipynb>data table notebook</a>'\n",
              "            + ' to learn more about interactive tables.';\n",
              "          element.innerHTML = '';\n",
              "          dataTable['output_type'] = 'display_data';\n",
              "          await google.colab.output.renderOutput(dataTable, element);\n",
              "          const docLink = document.createElement('div');\n",
              "          docLink.innerHTML = docLinkHtml;\n",
              "          element.appendChild(docLink);\n",
              "        }\n",
              "      </script>\n",
              "    </div>\n",
              "  </div>\n",
              "  "
            ],
            "text/plain": [
              "                       movie_name release_year rating   votes  \\\n",
              "movie_idx                                                       \n",
              "m289                       casino         1995   8.10  111223   \n",
              "m90               his girl friday         1940   8.10   20870   \n",
              "m435               meet joe black         1998   6.90   56839   \n",
              "m100                   innerspace         1987   6.50   16854   \n",
              "m380       hannah and her sisters         1986   7.90   21088   \n",
              "...                           ...          ...    ...     ...   \n",
              "m484                       vampyr         1932   7.60    4005   \n",
              "m270             the black dahlia         2006   5.60   35706   \n",
              "m521                      soldier       1998/I   5.60   16446   \n",
              "m602              what women want         2000   6.30   55269   \n",
              "m406              the jazz singer         1927   6.80    3252   \n",
              "\n",
              "                                                       genre  num_convos  \n",
              "movie_idx                                                                 \n",
              "m289                         ['biography', 'crime', 'drama']         338  \n",
              "m90                           ['comedy', 'drama', 'romance']         309  \n",
              "m435              ['drama', 'fantasy', 'mystery', 'romance']         301  \n",
              "m100       ['action', 'adventure', 'comedy', 'crime', 'sc...         300  \n",
              "m380                          ['comedy', 'drama', 'romance']         289  \n",
              "...                                                      ...         ...  \n",
              "m484                                   ['fantasy', 'horror']           8  \n",
              "m270       ['crime', 'drama', 'history', 'mystery', 'thri...           3  \n",
              "m521                           ['action', 'drama', 'sci-fi']           3  \n",
              "m602                        ['comedy', 'fantasy', 'romance']           1  \n",
              "m406                           ['drama', 'music', 'romance']           1  \n",
              "\n",
              "[617 rows x 6 columns]"
            ]
          },
          "execution_count": 73,
          "metadata": {},
          "output_type": "execute_result"
        }
      ],
      "source": [
        "df_movies = df_convos.drop_duplicates('meta.movie_idx')\n",
        "df_movies = df_movies.reset_index(drop=True)\n",
        "df_movies = df_movies.drop('vectors',axis=1)\n",
        "df_movies.columns = [col.replace('meta.','') for col in df_movies.columns]\n",
        "df_movies = df_movies.set_index('movie_idx')\n",
        "df_movies['num_convos'] = df_convos.groupby('meta.movie_idx').size()\n",
        "df_movies = df_movies.sort_values('num_convos',ascending=False)\n",
        "df_movies"
      ]
    },
    {
      "cell_type": "code",
      "execution_count": null,
      "metadata": {
        "colab": {
          "base_uri": "https://localhost:8080/",
          "height": 282
        },
        "id": "Yy75raOigA_o",
        "outputId": "02e4199b-8a73-4286-b315-8592ce92254e"
      },
      "outputs": [
        {
          "data": {
            "text/plain": [
              "<matplotlib.axes._subplots.AxesSubplot at 0x7f063729de90>"
            ]
          },
          "execution_count": 74,
          "metadata": {},
          "output_type": "execute_result"
        },
        {
          "data": {
            "image/png": "[encoded data removed]",
            "text/plain": [
              "<Figure size 432x288 with 1 Axes>"
            ]
          },
          "metadata": {
            "needs_background": "light"
          },
          "output_type": "display_data"
        }
      ],
      "source": [
        "# plot distribution?\n",
        "df_movies.num_convos.plot.density()"
      ]
    },
    {
      "cell_type": "code",
      "execution_count": null,
      "metadata": {
        "colab": {
          "base_uri": "https://localhost:8080/"
        },
        "id": "lQOIFMkalb8f",
        "outputId": "3d604cda-e71e-4b28-8a22-db7a49e8a185"
      },
      "outputs": [
        {
          "data": {
            "text/plain": [
              "movie_idx\n",
              "m289    8.10\n",
              "m90     8.10\n",
              "m435    6.90\n",
              "m100    6.50\n",
              "m380    7.90\n",
              "        ... \n",
              "m484    7.60\n",
              "m270    5.60\n",
              "m521    5.60\n",
              "m602    6.30\n",
              "m406    6.80\n",
              "Name: rating, Length: 617, dtype: object"
            ]
          },
          "execution_count": 78,
          "metadata": {},
          "output_type": "execute_result"
        }
      ],
      "source": [
        "ratings = df_movies['rating']\n",
        "ratings"
      ]
    },
    {
      "cell_type": "code",
      "execution_count": null,
      "metadata": {
        "colab": {
          "base_uri": "https://localhost:8080/",
          "height": 282
        },
        "id": "uf9YVXWsnmGx",
        "outputId": "f7e5f421-84b1-4d4b-df13-d70df4c27392"
      },
      "outputs": [
        {
          "data": {
            "text/plain": [
              "<matplotlib.axes._subplots.AxesSubplot at 0x7f0637246d50>"
            ]
          },
          "execution_count": 82,
          "metadata": {},
          "output_type": "execute_result"
        },
        {
          "data": {
            "image/png": "[encoded data removed]",
            "text/plain": [
              "<Figure size 432x288 with 1 Axes>"
            ]
          },
          "metadata": {
            "needs_background": "light"
          },
          "output_type": "display_data"
        }
      ],
      "source": [
        "import pandas as pd\n",
        "ratings = pd.to_numeric(ratings)\n",
        "ratings.plot.density()"
      ]
    },
    {
      "cell_type": "markdown",
      "metadata": {
        "id": "pbujw8Uvkc9j"
      },
      "source": [
        "### Speakers"
      ]
    },
    {
      "cell_type": "code",
      "execution_count": null,
      "metadata": {
        "colab": {
          "base_uri": "https://localhost:8080/",
          "height": 455
        },
        "id": "V2IL9t2LWK7f",
        "outputId": "66d6a505-f108-4c4f-bfc2-3a178910589f"
      },
      "outputs": [
        {
          "data": {
            "text/html": [
              "\n",
              "  <div id=\"df-304e11fa-f88d-4916-a399-02acba6b4902\">\n",
              "    <div class=\"colab-df-container\">\n",
              "      <div>\n",
              "<style scoped>\n",
              "    .dataframe tbody tr th:only-of-type {\n",
              "        vertical-align: middle;\n",
              "    }\n",
              "\n",
              "    .dataframe tbody tr th {\n",
              "        vertical-align: top;\n",
              "    }\n",
              "\n",
              "    .dataframe thead th {\n",
              "        text-align: right;\n",
              "    }\n",
              "</style>\n",
              "<table border=\"1\" class=\"dataframe\">\n",
              "  <thead>\n",
              "    <tr style=\"text-align: right;\">\n",
              "      <th></th>\n",
              "      <th>vectors</th>\n",
              "      <th>meta.character_name</th>\n",
              "      <th>meta.movie_idx</th>\n",
              "      <th>meta.movie_name</th>\n",
              "      <th>meta.gender</th>\n",
              "      <th>meta.credit_pos</th>\n",
              "    </tr>\n",
              "    <tr>\n",
              "      <th>id</th>\n",
              "      <th></th>\n",
              "      <th></th>\n",
              "      <th></th>\n",
              "      <th></th>\n",
              "      <th></th>\n",
              "      <th></th>\n",
              "    </tr>\n",
              "  </thead>\n",
              "  <tbody>\n",
              "    <tr>\n",
              "      <th>u0</th>\n",
              "      <td>[]</td>\n",
              "      <td>BIANCA</td>\n",
              "      <td>m0</td>\n",
              "      <td>10 things i hate about you</td>\n",
              "      <td>f</td>\n",
              "      <td>4</td>\n",
              "    </tr>\n",
              "    <tr>\n",
              "      <th>u2</th>\n",
              "      <td>[]</td>\n",
              "      <td>CAMERON</td>\n",
              "      <td>m0</td>\n",
              "      <td>10 things i hate about you</td>\n",
              "      <td>m</td>\n",
              "      <td>3</td>\n",
              "    </tr>\n",
              "    <tr>\n",
              "      <th>u3</th>\n",
              "      <td>[]</td>\n",
              "      <td>CHASTITY</td>\n",
              "      <td>m0</td>\n",
              "      <td>10 things i hate about you</td>\n",
              "      <td>?</td>\n",
              "      <td>?</td>\n",
              "    </tr>\n",
              "    <tr>\n",
              "      <th>u4</th>\n",
              "      <td>[]</td>\n",
              "      <td>JOEY</td>\n",
              "      <td>m0</td>\n",
              "      <td>10 things i hate about you</td>\n",
              "      <td>m</td>\n",
              "      <td>6</td>\n",
              "    </tr>\n",
              "    <tr>\n",
              "      <th>u5</th>\n",
              "      <td>[]</td>\n",
              "      <td>KAT</td>\n",
              "      <td>m0</td>\n",
              "      <td>10 things i hate about you</td>\n",
              "      <td>f</td>\n",
              "      <td>2</td>\n",
              "    </tr>\n",
              "    <tr>\n",
              "      <th>...</th>\n",
              "      <td>...</td>\n",
              "      <td>...</td>\n",
              "      <td>...</td>\n",
              "      <td>...</td>\n",
              "      <td>...</td>\n",
              "      <td>...</td>\n",
              "    </tr>\n",
              "    <tr>\n",
              "      <th>u9029</th>\n",
              "      <td>[]</td>\n",
              "      <td>CREALOCK</td>\n",
              "      <td>m616</td>\n",
              "      <td>zulu dawn</td>\n",
              "      <td>?</td>\n",
              "      <td>?</td>\n",
              "    </tr>\n",
              "    <tr>\n",
              "      <th>u9033</th>\n",
              "      <td>[]</td>\n",
              "      <td>STUART SMITH</td>\n",
              "      <td>m616</td>\n",
              "      <td>zulu dawn</td>\n",
              "      <td>?</td>\n",
              "      <td>?</td>\n",
              "    </tr>\n",
              "    <tr>\n",
              "      <th>u9028</th>\n",
              "      <td>[]</td>\n",
              "      <td>COGHILL</td>\n",
              "      <td>m616</td>\n",
              "      <td>zulu dawn</td>\n",
              "      <td>?</td>\n",
              "      <td>?</td>\n",
              "    </tr>\n",
              "    <tr>\n",
              "      <th>u9031</th>\n",
              "      <td>[]</td>\n",
              "      <td>MELVILL</td>\n",
              "      <td>m616</td>\n",
              "      <td>zulu dawn</td>\n",
              "      <td>?</td>\n",
              "      <td>?</td>\n",
              "    </tr>\n",
              "    <tr>\n",
              "      <th>u9034</th>\n",
              "      <td>[]</td>\n",
              "      <td>VEREKER</td>\n",
              "      <td>m616</td>\n",
              "      <td>zulu dawn</td>\n",
              "      <td>?</td>\n",
              "      <td>?</td>\n",
              "    </tr>\n",
              "  </tbody>\n",
              "</table>\n",
              "<p>9035 rows × 6 columns</p>\n",
              "</div>\n",
              "      <button class=\"colab-df-convert\" onclick=\"convertToInteractive('df-304e11fa-f88d-4916-a399-02acba6b4902')\"\n",
              "              title=\"Convert this dataframe to an interactive table.\"\n",
              "              style=\"display:none;\">\n",
              "        \n",
              "  <svg xmlns=\"http://www.w3.org/2000/svg\" height=\"24px\"viewBox=\"0 0 24 24\"\n",
              "       width=\"24px\">\n",
              "    <path d=\"M0 0h24v24H0V0z\" fill=\"none\"/>\n",
              "    <path d=\"M18.56 5.44l.94 2.06.94-2.06 2.06-.94-2.06-.94-.94-2.06-.94 2.06-2.06.94zm-11 1L8.5 8.5l.94-2.06 2.06-.94-2.06-.94L8.5 2.5l-.94 2.06-2.06.94zm10 10l.94 2.06.94-2.06 2.06-.94-2.06-.94-.94-2.06-.94 2.06-2.06.94z\"/><path d=\"M17.41 7.96l-1.37-1.37c-.4-.4-.92-.59-1.43-.59-.52 0-1.04.2-1.43.59L10.3 9.45l-7.72 7.72c-.78.78-.78 2.05 0 2.83L4 21.41c.39.39.9.59 1.41.59.51 0 1.02-.2 1.41-.59l7.78-7.78 2.81-2.81c.8-.78.8-2.07 0-2.86zM5.41 20L4 18.59l7.72-7.72 1.47 1.35L5.41 20z\"/>\n",
              "  </svg>\n",
              "      </button>\n",
              "      \n",
              "  <style>\n",
              "    .colab-df-container {\n",
              "      display:flex;\n",
              "      flex-wrap:wrap;\n",
              "      gap: 12px;\n",
              "    }\n",
              "\n",
              "    .colab-df-convert {\n",
              "      background-color: #E8F0FE;\n",
              "      border: none;\n",
              "      border-radius: 50%;\n",
              "      cursor: pointer;\n",
              "      display: none;\n",
              "      fill: #1967D2;\n",
              "      height: 32px;\n",
              "      padding: 0 0 0 0;\n",
              "      width: 32px;\n",
              "    }\n",
              "\n",
              "    .colab-df-convert:hover {\n",
              "      background-color: #E2EBFA;\n",
              "      box-shadow: 0px 1px 2px rgba(60, 64, 67, 0.3), 0px 1px 3px 1px rgba(60, 64, 67, 0.15);\n",
              "      fill: #174EA6;\n",
              "    }\n",
              "\n",
              "    [theme=dark] .colab-df-convert {\n",
              "      background-color: #3B4455;\n",
              "      fill: #D2E3FC;\n",
              "    }\n",
              "\n",
              "    [theme=dark] .colab-df-convert:hover {\n",
              "      background-color: #434B5C;\n",
              "      box-shadow: 0px 1px 3px 1px rgba(0, 0, 0, 0.15);\n",
              "      filter: drop-shadow(0px 1px 2px rgba(0, 0, 0, 0.3));\n",
              "      fill: #FFFFFF;\n",
              "    }\n",
              "  </style>\n",
              "\n",
              "      <script>\n",
              "        const buttonEl =\n",
              "          document.querySelector('#df-304e11fa-f88d-4916-a399-02acba6b4902 button.colab-df-convert');\n",
              "        buttonEl.style.display =\n",
              "          google.colab.kernel.accessAllowed ? 'block' : 'none';\n",
              "\n",
              "        async function convertToInteractive(key) {\n",
              "          const element = document.querySelector('#df-304e11fa-f88d-4916-a399-02acba6b4902');\n",
              "          const dataTable =\n",
              "            await google.colab.kernel.invokeFunction('convertToInteractive',\n",
              "                                                     [key], {});\n",
              "          if (!dataTable) return;\n",
              "\n",
              "          const docLinkHtml = 'Like what you see? Visit the ' +\n",
              "            '<a target=\"_blank\" href=https://colab.research.google.com/notebooks/data_table.ipynb>data table notebook</a>'\n",
              "            + ' to learn more about interactive tables.';\n",
              "          element.innerHTML = '';\n",
              "          dataTable['output_type'] = 'display_data';\n",
              "          await google.colab.output.renderOutput(dataTable, element);\n",
              "          const docLink = document.createElement('div');\n",
              "          docLink.innerHTML = docLinkHtml;\n",
              "          element.appendChild(docLink);\n",
              "        }\n",
              "      </script>\n",
              "    </div>\n",
              "  </div>\n",
              "  "
            ],
            "text/plain": [
              "      vectors meta.character_name meta.movie_idx             meta.movie_name  \\\n",
              "id                                                                             \n",
              "u0         []              BIANCA             m0  10 things i hate about you   \n",
              "u2         []             CAMERON             m0  10 things i hate about you   \n",
              "u3         []            CHASTITY             m0  10 things i hate about you   \n",
              "u4         []                JOEY             m0  10 things i hate about you   \n",
              "u5         []                 KAT             m0  10 things i hate about you   \n",
              "...       ...                 ...            ...                         ...   \n",
              "u9029      []            CREALOCK           m616                   zulu dawn   \n",
              "u9033      []        STUART SMITH           m616                   zulu dawn   \n",
              "u9028      []             COGHILL           m616                   zulu dawn   \n",
              "u9031      []             MELVILL           m616                   zulu dawn   \n",
              "u9034      []             VEREKER           m616                   zulu dawn   \n",
              "\n",
              "      meta.gender meta.credit_pos  \n",
              "id                                 \n",
              "u0              f               4  \n",
              "u2              m               3  \n",
              "u3              ?               ?  \n",
              "u4              m               6  \n",
              "u5              f               2  \n",
              "...           ...             ...  \n",
              "u9029           ?               ?  \n",
              "u9033           ?               ?  \n",
              "u9028           ?               ?  \n",
              "u9031           ?               ?  \n",
              "u9034           ?               ?  \n",
              "\n",
              "[9035 rows x 6 columns]"
            ]
          },
          "execution_count": 89,
          "metadata": {},
          "output_type": "execute_result"
        }
      ],
      "source": [
        "df_speakers = corpus.get_speakers_dataframe()\n",
        "df_speakers"
      ]
    },
    {
      "cell_type": "code",
      "execution_count": null,
      "metadata": {
        "colab": {
          "base_uri": "https://localhost:8080/"
        },
        "id": "OVFR5376oacG",
        "outputId": "460848cc-0b01-443d-9cd4-302ddfceb848"
      },
      "outputs": [
        {
          "data": {
            "text/plain": [
              "?    6020\n",
              "m    1899\n",
              "f     921\n",
              "M     150\n",
              "F      45\n",
              "Name: meta.gender, dtype: int64"
            ]
          },
          "execution_count": 91,
          "metadata": {},
          "output_type": "execute_result"
        }
      ],
      "source": [
        "df_speakers['meta.gender'].value_counts()"
      ]
    },
    {
      "cell_type": "code",
      "execution_count": null,
      "metadata": {
        "colab": {
          "base_uri": "https://localhost:8080/"
        },
        "id": "wXWo3jFNodyL",
        "outputId": "394355a6-b295-4569-d4d4-5d2531d9cebc"
      },
      "outputs": [
        {
          "data": {
            "text/plain": [
              "?    6020\n",
              "m    2049\n",
              "f     966\n",
              "Name: meta.gender, dtype: int64"
            ]
          },
          "execution_count": 92,
          "metadata": {},
          "output_type": "execute_result"
        }
      ],
      "source": [
        "df_speakers['meta.gender'].apply(lambda gender: gender.lower()).value_counts()"
      ]
    },
    {
      "cell_type": "code",
      "execution_count": null,
      "metadata": {
        "colab": {
          "base_uri": "https://localhost:8080/",
          "height": 265
        },
        "id": "Zu1gRqrLlT9Z",
        "outputId": "39d513fc-4bcc-4cef-9956-ae9ec8c8b221"
      },
      "outputs": [
        {
          "data": {
            "text/plain": [
              "<matplotlib.axes._subplots.AxesSubplot at 0x7f06388553d0>"
            ]
          },
          "execution_count": 88,
          "metadata": {},
          "output_type": "execute_result"
        },
        {
          "data": {
            "image/png": "[encoded data removed]",
            "text/plain": [
              "<Figure size 432x288 with 1 Axes>"
            ]
          },
          "metadata": {},
          "output_type": "display_data"
        }
      ],
      "source": [
        "df_speakers['meta.gender'].apply(lambda x: x.lower()).value_counts().plot.pie()"
      ]
    },
    {
      "cell_type": "code",
      "execution_count": null,
      "metadata": {
        "id": "83QheBdolUE-"
      },
      "outputs": [],
      "source": []
    },
    {
      "cell_type": "code",
      "execution_count": null,
      "metadata": {
        "id": "q-5CY8OtlUI2"
      },
      "outputs": [],
      "source": []
    },
    {
      "cell_type": "code",
      "execution_count": null,
      "metadata": {
        "id": "ocVmU5nNlUMA"
      },
      "outputs": [],
      "source": []
    },
    {
      "cell_type": "code",
      "execution_count": null,
      "metadata": {
        "id": "P9byBiO2lUOH"
      },
      "outputs": [],
      "source": []
    },
    {
      "cell_type": "code",
      "execution_count": null,
      "metadata": {
        "id": "61F0jUUalURA"
      },
      "outputs": [],
      "source": []
    },
    {
      "cell_type": "code",
      "execution_count": null,
      "metadata": {
        "id": "bwxaoblCdUrD"
      },
      "outputs": [],
      "source": [
        "# dfconvo=corpus.get_conversations_dataframe()\n",
        "# dfutt=corpus.get_utterances_dataframe()\n",
        "# dfchars=corpus.get_speakers_dataframe()"
      ]
    },
    {
      "cell_type": "code",
      "execution_count": null,
      "metadata": {
        "colab": {
          "base_uri": "https://localhost:8080/"
        },
        "id": "v1WAFpLddzXw",
        "outputId": "a33b22ca-8f02-4141-f651-2756bd99c169"
      },
      "outputs": [
        {
          "data": {
            "text/plain": [
              "Conversation({'obj_type': 'conversation', 'meta': {'movie_idx': 'm0', 'movie_name': '10 things i hate about you', 'release_year': '1999', 'rating': '6.90', 'votes': '62847', 'genre': \"['comedy', 'romance']\"}, 'vectors': [], 'tree': None, 'owner': <convokit.model.corpus.Corpus object at 0x7f08c6df3090>, 'id': 'L1044'})"
            ]
          },
          "execution_count": 16,
          "metadata": {},
          "output_type": "execute_result"
        }
      ],
      "source": [
        "for convo in corpus.iter_conversations(): break\n",
        "convo"
      ]
    },
    {
      "cell_type": "code",
      "execution_count": null,
      "metadata": {
        "colab": {
          "base_uri": "https://localhost:8080/"
        },
        "id": "8NsqV8ezd3Qd",
        "outputId": "515bf69b-aa39-4e2d-8ec7-96f2d2923817"
      },
      "outputs": [
        {
          "data": {
            "text/plain": [
              "Utterance({'obj_type': 'utterance', 'meta': {'movie_id': 'm0', 'parsed': [{'rt': 1, 'toks': [{'tok': 'They', 'tag': 'PRP', 'dep': 'nsubj', 'up': 1, 'dn': []}, {'tok': 'do', 'tag': 'VBP', 'dep': 'ROOT', 'dn': [0, 2, 3]}, {'tok': 'not', 'tag': 'RB', 'dep': 'neg', 'up': 1, 'dn': []}, {'tok': '!', 'tag': '.', 'dep': 'punct', 'up': 1, 'dn': []}]}]}, 'vectors': [], 'speaker': Speaker({'obj_type': 'speaker', 'meta': {'character_name': 'BIANCA', 'movie_idx': 'm0', 'movie_name': '10 things i hate about you', 'gender': 'f', 'credit_pos': '4'}, 'vectors': [], 'owner': <convokit.model.corpus.Corpus object at 0x7f08c6df3090>, 'id': 'u0'}), 'conversation_id': 'L1044', 'reply_to': 'L1044', 'timestamp': None, 'text': 'They do not!', 'owner': <convokit.model.corpus.Corpus object at 0x7f08c6df3090>, 'id': 'L1045'})"
            ]
          },
          "execution_count": 17,
          "metadata": {},
          "output_type": "execute_result"
        }
      ],
      "source": [
        "for utt in convo.iter_utterances(): break\n",
        "utt"
      ]
    },
    {
      "cell_type": "code",
      "execution_count": null,
      "metadata": {
        "colab": {
          "base_uri": "https://localhost:8080/"
        },
        "id": "e2ubL8Hwd3Vu",
        "outputId": "17c4fdde-9621-4eaf-9118-c21757fd2068"
      },
      "outputs": [
        {
          "data": {
            "text/plain": [
              "Speaker({'obj_type': 'speaker', 'meta': {'character_name': 'CAMERON', 'movie_idx': 'm0', 'movie_name': '10 things i hate about you', 'gender': 'm', 'credit_pos': '3'}, 'vectors': [], 'owner': <convokit.model.corpus.Corpus object at 0x7f08c6df3090>, 'id': 'u2'})"
            ]
          },
          "execution_count": 18,
          "metadata": {},
          "output_type": "execute_result"
        }
      ],
      "source": [
        "for speaker in convo.iter_speakers(): break\n",
        "speaker"
      ]
    },
    {
      "cell_type": "code",
      "execution_count": null,
      "metadata": {
        "id": "BGw7WuxRd3Yh"
      },
      "outputs": [],
      "source": [
        "speaker"
      ]
    },
    {
      "cell_type": "code",
      "execution_count": null,
      "metadata": {
        "id": "cBRSzBgyd3a_"
      },
      "outputs": [],
      "source": [
        "movie_to_speakers=defaultdict(set)\n",
        "for speaker_id,speaker in corpus.speakers.items():\n",
        "  movie_id=speaker.meta.get('movie_idx')\n",
        "  movie_to_speakers[movie_id]|={speaker_id}\n",
        "\n",
        "movie_to_speakers['m0']"
      ]
    },
    {
      "cell_type": "code",
      "execution_count": null,
      "metadata": {
        "id": "cS88WSenYmVn"
      },
      "outputs": [],
      "source": [
        "from pprint import pprint,pformat"
      ]
    },
    {
      "cell_type": "code",
      "execution_count": null,
      "metadata": {
        "colab": {
          "base_uri": "https://localhost:8080/"
        },
        "id": "QZ5J2q90Y4Z8",
        "outputId": "afb17b51-16bc-47c6-d8fb-70449760e5f9"
      },
      "outputs": [
        {
          "name": "stdout",
          "output_type": "stream",
          "text": [
            "\n",
            "[Speaker]\n",
            "{'character_name': 'DEFENSE ATTORNEY',\n",
            " 'credit_pos': '?',\n",
            " 'gender': '?',\n",
            " 'movie_idx': 'm426',\n",
            " 'movie_name': 'lost souls'}\n",
            "\n",
            "[Speech]\n",
            "\"You have to tell me who did it.\"\n",
            "{'movie_id': 'm426',\n",
            " 'parsed': [{'rt': 1,\n",
            "             'toks': [{'dep': 'nsubj',\n",
            "                       'dn': [],\n",
            "                       'tag': 'PRP',\n",
            "                       'tok': 'You',\n",
            "                       'up': 1},\n",
            "                      {'dep': 'ROOT',\n",
            "                       'dn': [0, 3, 8],\n",
            "                       'tag': 'VBP',\n",
            "                       'tok': 'have'},\n",
            "                      {'dep': 'aux',\n",
            "                       'dn': [],\n",
            "                       'tag': 'TO',\n",
            "                       'tok': 'to',\n",
            "                       'up': 3},\n",
            "                      {'dep': 'xcomp',\n",
            "                       'dn': [2, 4, 6],\n",
            "                       'tag': 'VB',\n",
            "                       'tok': 'tell',\n",
            "                       'up': 1},\n",
            "                      {'dep': 'dobj',\n",
            "                       'dn': [],\n",
            "                       'tag': 'PRP',\n",
            "                       'tok': 'me',\n",
            "                       'up': 3},\n",
            "                      {'dep': 'nsubj',\n",
            "                       'dn': [],\n",
            "                       'tag': 'WP',\n",
            "                       'tok': 'who',\n",
            "                       'up': 6},\n",
            "                      {'dep': 'ccomp',\n",
            "                       'dn': [5, 7],\n",
            "                       'tag': 'VBD',\n",
            "                       'tok': 'did',\n",
            "                       'up': 3},\n",
            "                      {'dep': 'dobj',\n",
            "                       'dn': [],\n",
            "                       'tag': 'PRP',\n",
            "                       'tok': 'it',\n",
            "                       'up': 6},\n",
            "                      {'dep': 'punct',\n",
            "                       'dn': [],\n",
            "                       'tag': '.',\n",
            "                       'tok': '.',\n",
            "                       'up': 1}]}]}\n",
            "\n"
          ]
        }
      ],
      "source": [
        "utt = corpus.random_utterance()\n",
        "\n",
        "# primary data fields\n",
        "# pprint(\"ID:\", utt.id)\n",
        "# print(\"Reply_to:\", utt.reply_to, \"\\n\")\n",
        "# print(\"Timestamp:\", utt.timestamp, \"\\n\")\n",
        "# print(\"Text:\", utt.text, \"\\n\")\n",
        "# print(\"Conversation ID:\", utt.conversation_id, \"\\n\")\n",
        "# print(\"Speaker ID:\", utt.speaker.id)\n",
        "\n",
        "o=f\"\"\"\n",
        "[Speaker]\n",
        "{pformat(utt.speaker.meta)}\n",
        "\n",
        "[Speech]\n",
        "\"{utt.text}\"\n",
        "{pformat(utt.meta)}\n",
        "\"\"\"\n",
        "print(o)"
      ]
    },
    {
      "cell_type": "code",
      "execution_count": null,
      "metadata": {
        "colab": {
          "base_uri": "https://localhost:8080/"
        },
        "id": "PUYV4ixzZJhw",
        "outputId": "c39e75d1-637c-4fdc-a52a-3c25540c49d4"
      },
      "outputs": [
        {
          "name": "stdout",
          "output_type": "stream",
          "text": [
            "Initializing default CountVectorizer with ngram_range (1, 3)... Done.\n"
          ]
        }
      ],
      "source": [
        "from convokit import FightingWords\n",
        "fw=FightingWords()\n",
        "# fw.fit(\n",
        "#     corpus,\n",
        "#     class1_func = lambda utt: utt.speaker.meta.get('gender')=='f',\n",
        "#     class2_func = lambda utt: utt.speaker.meta.get('gender')=='m'\n",
        "# )\n",
        "fw.fit??"
      ]
    },
    {
      "cell_type": "code",
      "execution_count": null,
      "metadata": {
        "colab": {
          "base_uri": "https://localhost:8080/"
        },
        "id": "YdsxACFmZYuL",
        "outputId": "4de72bd3-4b9e-48ce-a010-373cda8889d4"
      },
      "outputs": [
        {
          "name": "stdout",
          "output_type": "stream",
          "text": [
            "Object `fw` not found.\n"
          ]
        }
      ],
      "source": [
        "fw?"
      ]
    },
    {
      "cell_type": "code",
      "execution_count": null,
      "metadata": {
        "id": "Ver-Z3h7ZlWz"
      },
      "outputs": [],
      "source": [
        "## Conversations"
      ]
    },
    {
      "cell_type": "code",
      "execution_count": null,
      "metadata": {
        "id": "y69J9SefaW7R"
      },
      "outputs": [],
      "source": []
    },
    {
      "cell_type": "code",
      "execution_count": null,
      "metadata": {
        "colab": {
          "base_uri": "https://localhost:8080/"
        },
        "id": "5frq9NviaXjt",
        "outputId": "b920a7a4-9c7e-4795-bb07-8df51f925f0b"
      },
      "outputs": [
        {
          "name": "stdout",
          "output_type": "stream",
          "text": [
            "{'genre': \"['action', 'adventure', 'crime']\",\n",
            " 'movie_idx': 'm613',\n",
            " 'movie_name': 'xxx',\n",
            " 'rating': '5.60',\n",
            " 'release_year': '2002',\n",
            " 'votes': '53505'}\n",
            "\n",
            "GIBBONS: You've really got me confused, Cage. On the one hand you showed leadership, courage under fire, a willingness to protect men you hardly knew... and on the other you have an arrest record that pegs you as near sociopathic. Help me out here. I'm not following your evolution.\n",
            "    XANDER: You want the cheap backstory? The runaway mom, the suicide dad and the foster homes? Gimme a break. You're not interested in my past, you're interested in my future as some kind of spy.\n",
            "        GIBBONS: You're perceptive too. I forgot to add that to the list of surprises. I'm with the National Security Agency. And unlikely as it may sound, I need your help.\n",
            "            XANDER: I'm not interested. I've already got a job.\n",
            "                GIBBONS: You're an adrenaline junkie with one foot in the penitentiary. You risk your ass building a daredevil myth that means nothing and you're not getting any younger.\n",
            "                    XANDER: I plan on getting a lot older. And playing spy games sounds like a quick way to get yourself dead.\n",
            "                        GIBBONS: That's too bad. I thought a guy like you would appreciate the challenge.\n"
          ]
        }
      ],
      "source": [
        "convo = corpus.random_conversation()\n",
        "pprint(convo.meta)\n",
        "print()\n",
        "convo.print_conversation_structure(lambda utt: utt.speaker.meta.get('character_name','?').upper()+': '+utt.text)"
      ]
    },
    {
      "cell_type": "code",
      "execution_count": null,
      "metadata": {
        "id": "96WWPi9waYKa"
      },
      "outputs": [],
      "source": []
    }
  ],
  "metadata": {
    "colab": {
      "collapsed_sections": [
        "l8bK00lwkPyR"
      ],
      "name": "CornellMovieDialogs.ipynb",
      "provenance": [],
      "toc_visible": true
    },
    "kernelspec": {
      "display_name": "Python 3.9.13 64-bit",
      "language": "python",
      "name": "python3"
    },
    "language_info": {
      "name": "python",
      "version": "3.9.13"
    },
    "vscode": {
      "interpreter": {
        "hash": "b0fa6594d8f4cbf19f97940f81e996739fb7646882a419484c72d19e05852a7e"
      }
    }
  },
  "nbformat": 4,
  "nbformat_minor": 0
}
