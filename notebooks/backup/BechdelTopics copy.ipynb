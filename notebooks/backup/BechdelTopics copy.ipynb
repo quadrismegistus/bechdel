{
 "cells": [
  {
   "cell_type": "code",
   "execution_count": 1,
   "metadata": {},
   "outputs": [],
   "source": [
    "import sys; sys.path.insert(0,'..')\n",
    "from bechdeltest import *\n",
    "\n",
    "import sys; sys.path.insert(0,'/Users/ryan/github/BERTopic')\n",
    "from bertopic import BERTopic"
   ]
  },
  {
   "cell_type": "code",
   "execution_count": 5,
   "metadata": {},
   "outputs": [
    {
     "data": {
      "application/vnd.jupyter.widget-view+json": {
       "model_id": "5d6faae48a3e48b3811e856ab781c3e5",
       "version_major": 2,
       "version_minor": 0
      },
      "text/plain": [
       "[BechdelTest] Loading corpus:   0%|          | 0/34 [00:00<?, ?it/s]"
      ]
     },
     "metadata": {},
     "output_type": "display_data"
    },
    {
     "ename": "IndexError",
     "evalue": "list index out of range",
     "output_type": "error",
     "traceback": [
      "\u001b[0;31m---------------------------------------------------------------------------\u001b[0m",
      "\u001b[0;31mIndexError\u001b[0m                                Traceback (most recent call last)",
      "\u001b[1;32m/Users/ryan/github/bechdeltest/notebooks/BechdelTopics.ipynb Cell 2\u001b[0m in \u001b[0;36m<cell line: 2>\u001b[0;34m()\u001b[0m\n\u001b[1;32m      <a href='vscode-notebook-cell:/Users/ryan/github/bechdeltest/notebooks/BechdelTopics.ipynb#ch0000018?line=0'>1</a>\u001b[0m C\u001b[39m=\u001b[39mBechdelTest()\n\u001b[1;32m      <a href='vscode-notebook-cell:/Users/ryan/github/bechdeltest/notebooks/BechdelTopics.ipynb#ch0000018?line=1'>2</a>\u001b[0m \u001b[39mfor\u001b[39;00m t \u001b[39min\u001b[39;00m C\u001b[39m.\u001b[39mtexts(): \n\u001b[0;32m----> <a href='vscode-notebook-cell:/Users/ryan/github/bechdeltest/notebooks/BechdelTopics.ipynb#ch0000018?line=2'>3</a>\u001b[0m     t\u001b[39m.\u001b[39;49mget_dialogue_txt()\n",
      "File \u001b[0;32m~/github/bechdeltest/notebooks/../bechdeltest/bechdeltest.py:47\u001b[0m, in \u001b[0;36mBechdelTestText.get_dialogue_txt\u001b[0;34m(self)\u001b[0m\n\u001b[1;32m     46\u001b[0m \u001b[39mdef\u001b[39;00m \u001b[39mget_dialogue_txt\u001b[39m(\u001b[39mself\u001b[39m):\n\u001b[0;32m---> 47\u001b[0m     \u001b[39mreturn\u001b[39;00m parse_script(\u001b[39mself\u001b[39;49m\u001b[39m.\u001b[39;49mtxt)\n",
      "File \u001b[0;32m~/github/bechdeltest/notebooks/../bechdeltest/parsers/scripts.py:110\u001b[0m, in \u001b[0;36mparse_script\u001b[0;34m(script_orig)\u001b[0m\n\u001b[1;32m    108\u001b[0m \u001b[39mdef\u001b[39;00m \u001b[39mparse_script\u001b[39m(script_orig):\n\u001b[1;32m    109\u001b[0m \t\u001b[39mimport\u001b[39;00m \u001b[39mpandas\u001b[39;00m \u001b[39mas\u001b[39;00m \u001b[39mpd\u001b[39;00m\n\u001b[0;32m--> 110\u001b[0m \t\u001b[39mreturn\u001b[39;00m pd\u001b[39m.\u001b[39;49mDataFrame(parse_script_iter(script_orig))\n",
      "File \u001b[0;32m~/miniforge3/lib/python3.9/site-packages/pandas/core/frame.py:710\u001b[0m, in \u001b[0;36mDataFrame.__init__\u001b[0;34m(self, data, index, columns, dtype, copy)\u001b[0m\n\u001b[1;32m    708\u001b[0m         data \u001b[39m=\u001b[39m np\u001b[39m.\u001b[39masarray(data)\n\u001b[1;32m    709\u001b[0m     \u001b[39melse\u001b[39;00m:\n\u001b[0;32m--> 710\u001b[0m         data \u001b[39m=\u001b[39m \u001b[39mlist\u001b[39;49m(data)\n\u001b[1;32m    711\u001b[0m \u001b[39mif\u001b[39;00m \u001b[39mlen\u001b[39m(data) \u001b[39m>\u001b[39m \u001b[39m0\u001b[39m:\n\u001b[1;32m    712\u001b[0m     \u001b[39mif\u001b[39;00m is_dataclass(data[\u001b[39m0\u001b[39m]):\n",
      "File \u001b[0;32m~/github/bechdeltest/notebooks/../bechdeltest/parsers/scripts.py:35\u001b[0m, in \u001b[0;36mparse_script_iter\u001b[0;34m(script_orig)\u001b[0m\n\u001b[1;32m     33\u001b[0m tag_vec \u001b[39m=\u001b[39m get_meta(script_noind, tag_vec, tag_set, meta_thresh, meta_set, sent_thresh, bound_ind, trans_ind)\n\u001b[1;32m     34\u001b[0m \u001b[39m# DETECT CHARACTER-DIALOGUE\u001b[39;00m\n\u001b[0;32m---> 35\u001b[0m tag_vec \u001b[39m=\u001b[39m get_char_dial(script_noind, tag_vec, tag_set, char_max_words)\n\u001b[1;32m     36\u001b[0m \u001b[39m# DETECT SCENE DESCRIPTION\u001b[39;00m\n\u001b[1;32m     37\u001b[0m tag_vec \u001b[39m=\u001b[39m get_scene_desc(script_noind, tag_vec, tag_set)\n",
      "File \u001b[0;32m~/github/bechdeltest/notebooks/../bechdeltest/parsers/mica.py:124\u001b[0m, in \u001b[0;36mget_char_dial\u001b[0;34m(script_noind, tag_vec, tag_set, char_max_words)\u001b[0m\n\u001b[1;32m    117\u001b[0m \u001b[39mdef\u001b[39;00m \u001b[39mget_char_dial\u001b[39m(script_noind, tag_vec, tag_set, char_max_words):\n\u001b[1;32m    118\u001b[0m \tchar_ind \u001b[39m=\u001b[39m [i \u001b[39mfor\u001b[39;00m i, x \u001b[39min\u001b[39;00m \u001b[39menumerate\u001b[39m(script_noind) \u001b[39mif\u001b[39;00m tag_vec[i] \u001b[39mnot\u001b[39;00m \u001b[39min\u001b[39;00m tag_set \u001b[39mand\u001b[39;00m \u001b[39many\u001b[39m([y\u001b[39m.\u001b[39misupper() \u001b[39mfor\u001b[39;00m y \u001b[39min\u001b[39;00m x\u001b[39m.\u001b[39msplit()])\\\n\u001b[1;32m    119\u001b[0m \t\t\t\t\t\t\t\t\t\t\t\t\t\t\u001b[39mand\u001b[39;00m i \u001b[39m!=\u001b[39m \u001b[39m0\u001b[39m \u001b[39mand\u001b[39;00m i \u001b[39m!=\u001b[39m (\u001b[39mlen\u001b[39m(script_noind) \u001b[39m-\u001b[39m \u001b[39m1\u001b[39m)\\\n\u001b[1;32m    120\u001b[0m \t\t\t\t\t\t\t\t\t\t\t\t\t\t\u001b[39m# and len(script_noind[i - 1].split()) == 0\\\u001b[39;00m\n\u001b[1;32m    121\u001b[0m \t\t\t\t\t\t\t\t\t\t\t\t\t\t\u001b[39mand\u001b[39;00m \u001b[39mlen\u001b[39m(script_noind[i \u001b[39m+\u001b[39m \u001b[39m1\u001b[39m]\u001b[39m.\u001b[39msplit()) \u001b[39m>\u001b[39m \u001b[39m0\u001b[39m\\\n\u001b[1;32m    122\u001b[0m \t\t\t\t\t\t\t\t\t\t\t\t\t\t\u001b[39mand\u001b[39;00m \u001b[39mlen\u001b[39m(x\u001b[39m.\u001b[39msplit()) \u001b[39m<\u001b[39m char_max_words\\\n\u001b[1;32m    123\u001b[0m \t\t\t\t\t\t\t\t\t\t\t\t\t\t\u001b[39mand\u001b[39;00m \u001b[39many\u001b[39m([separate_dial_meta(x)[y] \u001b[39mfor\u001b[39;00m y \u001b[39min\u001b[39;00m [\u001b[39m0\u001b[39m, \u001b[39m2\u001b[39m]])]\n\u001b[0;32m--> 124\u001b[0m \t\u001b[39mif\u001b[39;00m char_ind[\u001b[39m-\u001b[39;49m\u001b[39m1\u001b[39;49m] \u001b[39m<\u001b[39m (\u001b[39mlen\u001b[39m(script_noind) \u001b[39m-\u001b[39m \u001b[39m1\u001b[39m):\n\u001b[1;32m    125\u001b[0m \t\tchar_ind \u001b[39m+\u001b[39m\u001b[39m=\u001b[39m [\u001b[39mlen\u001b[39m(script_noind) \u001b[39m-\u001b[39m \u001b[39m1\u001b[39m]\n\u001b[1;32m    126\u001b[0m \t\u001b[39melse\u001b[39;00m:\n",
      "\u001b[0;31mIndexError\u001b[0m: list index out of range"
     ]
    }
   ],
   "source": [
    "C=BechdelTest()\n",
    "for t in C.texts(): t.get_dialogue_txt()"
   ]
  },
  {
   "cell_type": "code",
   "execution_count": 13,
   "metadata": {},
   "outputs": [],
   "source": [
    "## Get all speech?\n",
    "def get_all_speech_docs():\n",
    "    C=BechdelTest()\n",
    "    path_dials=f'{C.MOVIE_SCRIPT_DB_PATH}/parsed/dialogue'\n",
    "    docs = []\n",
    "    for fn in tqdm(os.listdir(path_dials)):\n",
    "        with open(os.path.join(path_dials,fn)) as f:\n",
    "            for ln in f:\n",
    "                if '=>' in ln:\n",
    "                    doc=ln.split('=>',1)[1].strip()\n",
    "                    docs.append(doc)\n",
    "    return docs\n",
    "\n",
    "def get_corpus_speech_docs():\n",
    "    C=BechdelTest()\n",
    "    docs = [dial for t in C.texts(progress=True) for dial in t.dialogue().speech]\n",
    "    len(docs), docs[0]\n",
    "    return docs"
   ]
  },
  {
   "cell_type": "code",
   "execution_count": 16,
   "metadata": {},
   "outputs": [
    {
     "name": "stderr",
     "output_type": "stream",
     "text": [
      "100%|██████████| 2041/2041 [00:00<00:00, 2720.51it/s]\n"
     ]
    },
    {
     "data": {
      "text/plain": [
       "1558560"
      ]
     },
     "execution_count": 16,
     "metadata": {},
     "output_type": "execute_result"
    }
   ],
   "source": [
    "docs = get_all_speech_docs()\n",
    "len(docs)"
   ]
  },
  {
   "cell_type": "code",
   "execution_count": 17,
   "metadata": {},
   "outputs": [
    {
     "data": {
      "application/vnd.jupyter.widget-view+json": {
       "model_id": "995f2438ea5c45f892bbeaa3497d14e0",
       "version_major": 2,
       "version_minor": 0
      },
      "text/plain": [
       "[BechdelTest] Loading corpus:   0%|          | 0/34 [00:00<?, ?it/s]"
      ]
     },
     "metadata": {},
     "output_type": "display_data"
    },
    {
     "data": {
      "application/vnd.jupyter.widget-view+json": {
       "model_id": "f6125998e82a4d3fb06da8332f3c614e",
       "version_major": 2,
       "version_minor": 0
      },
      "text/plain": [
       "[BechdelTest] iterating texts:   0%|          | 0/34 [00:00<?, ?it/s]"
      ]
     },
     "metadata": {},
     "output_type": "display_data"
    },
    {
     "data": {
      "text/plain": [
       "27486"
      ]
     },
     "execution_count": 17,
     "metadata": {},
     "output_type": "execute_result"
    }
   ],
   "source": [
    "docs = get_corpus_speech_docs()\n",
    "len(docs)"
   ]
  },
  {
   "cell_type": "code",
   "execution_count": 18,
   "metadata": {},
   "outputs": [
    {
     "name": "stderr",
     "output_type": "stream",
     "text": [
      "Batches: 100%|██████████| 859/859 [25:58<00:00,  1.81s/it]    \n",
      "2022-07-13 06:04:32,592 - BERTopic - Transformed documents to Embeddings\n",
      "OMP: Info #271: omp_set_nested routine deprecated, please use omp_set_max_active_levels instead.\n",
      "2022-07-13 06:04:42,408 - BERTopic - Reduced dimensionality\n"
     ]
    },
    {
     "name": "stdout",
     "output_type": "stream",
     "text": [
      "huggingface/tokenizers: The current process just got forked, after parallelism has already been used. Disabling parallelism to avoid deadlocks...\n",
      "To disable this warning, you can either:\n",
      "\t- Avoid using `tokenizers` before the fork if possible\n",
      "\t- Explicitly set the environment variable TOKENIZERS_PARALLELISM=(true | false)\n",
      "huggingface/tokenizers: The current process just got forked, after parallelism has already been used. Disabling parallelism to avoid deadlocks...\n",
      "To disable this warning, you can either:\n",
      "\t- Avoid using `tokenizers` before the fork if possible\n",
      "\t- Explicitly set the environment variable TOKENIZERS_PARALLELISM=(true | false)\n",
      "huggingface/tokenizers: The current process just got forked, after parallelism has already been used. Disabling parallelism to avoid deadlocks...\n",
      "To disable this warning, you can either:\n",
      "\t- Avoid using `tokenizers` before the fork if possible\n",
      "\t- Explicitly set the environment variable TOKENIZERS_PARALLELISM=(true | false)\n",
      "huggingface/tokenizers: The current process just got forked, after parallelism has already been used. Disabling parallelism to avoid deadlocks...\n",
      "To disable this warning, you can either:\n",
      "\t- Avoid using `tokenizers` before the fork if possible\n",
      "\t- Explicitly set the environment variable TOKENIZERS_PARALLELISM=(true | false)\n",
      "huggingface/tokenizers: The current process just got forked, after parallelism has already been used. Disabling parallelism to avoid deadlocks...\n",
      "To disable this warning, you can either:\n",
      "\t- Avoid using `tokenizers` before the fork if possible\n",
      "\t- Explicitly set the environment variable TOKENIZERS_PARALLELISM=(true | false)\n",
      "huggingface/tokenizers: The current process just got forked, after parallelism has already been used. Disabling parallelism to avoid deadlocks...\n",
      "To disable this warning, you can either:\n",
      "\t- Avoid using `tokenizers` before the fork if possible\n",
      "\t- Explicitly set the environment variable TOKENIZERS_PARALLELISM=(true | false)\n"
     ]
    },
    {
     "name": "stderr",
     "output_type": "stream",
     "text": [
      "2022-07-13 06:04:44,523 - BERTopic - Clustered reduced embeddings\n"
     ]
    }
   ],
   "source": [
    "n=None\n",
    "topic_model = BERTopic(verbose=True, embedding_model=\"all-MiniLM-L6-v2\")\n",
    "topics, probs = topic_model.fit_transform(docs[:n])"
   ]
  },
  {
   "cell_type": "code",
   "execution_count": 21,
   "metadata": {},
   "outputs": [],
   "source": [
    "topic_model.save(os.path.join(C.path_data, 'topic_model.pkl'))"
   ]
  },
  {
   "cell_type": "code",
   "execution_count": 22,
   "metadata": {},
   "outputs": [
    {
     "data": {
      "text/plain": [
       "[('catwoman', 0.024686924780803962),\n",
       " ('patience', 0.020742773692096404),\n",
       " ('laurel', 0.016630411422905764),\n",
       " ('cat', 0.012706904801748466),\n",
       " ('edna', 0.012038421072995171),\n",
       " ('lone', 0.010008793159532965),\n",
       " ('midnight', 0.009079772178993892),\n",
       " ('avenal', 0.007924070176996405),\n",
       " ('her', 0.007906971744052237),\n",
       " ('georges', 0.007721444952495501)]"
      ]
     },
     "execution_count": 22,
     "metadata": {},
     "output_type": "execute_result"
    }
   ],
   "source": [
    "topic_model.get_topic(2)"
   ]
  },
  {
   "cell_type": "code",
   "execution_count": 34,
   "metadata": {},
   "outputs": [],
   "source": [
    "# topic_model.visualize_topics()"
   ]
  },
  {
   "cell_type": "code",
   "execution_count": 36,
   "metadata": {},
   "outputs": [],
   "source": [
    "## Get all speech?\n",
    "# !ls \"${C.MOVIE_SCRIPT_DB_PATH}/parsed\""
   ]
  },
  {
   "cell_type": "code",
   "execution_count": null,
   "metadata": {},
   "outputs": [],
   "source": []
  }
 ],
 "metadata": {
  "kernelspec": {
   "display_name": "Python 3.9.7 ('base')",
   "language": "python",
   "name": "python3"
  },
  "language_info": {
   "codemirror_mode": {
    "name": "ipython",
    "version": 3
   },
   "file_extension": ".py",
   "mimetype": "text/x-python",
   "name": "python",
   "nbconvert_exporter": "python",
   "pygments_lexer": "ipython3",
   "version": "3.9.7"
  },
  "orig_nbformat": 4,
  "vscode": {
   "interpreter": {
    "hash": "99c3488a746bccd77b7949f8f419451e1c962da56ebbaaae6e4d2e6c8c07eaa0"
   }
  }
 },
 "nbformat": 4,
 "nbformat_minor": 2
}
